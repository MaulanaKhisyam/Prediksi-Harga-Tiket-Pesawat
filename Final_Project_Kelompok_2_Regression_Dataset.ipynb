{
  "nbformat": 4,
  "nbformat_minor": 0,
  "metadata": {
    "colab": {
      "provenance": [],
      "toc_visible": true
    },
    "kernelspec": {
      "name": "python3",
      "display_name": "Python 3"
    },
    "language_info": {
      "name": "python"
    }
  },
  "cells": [
    {
      "cell_type": "markdown",
      "source": [
        "Mentor :\n",
        "Hanny Nurrohmah\n",
        "\n",
        "Disusun Oleh :\n",
        "Kelompok 2 (Dua)\n",
        "\n",
        "- Marshanda Gavrilla\n",
        "- Maulana Khisyam\n",
        "- Ridha Talasya Widyanti\n",
        "- Rifat Muhammad\n"
      ],
      "metadata": {
        "id": "PaLofxCL1t4U"
      }
    },
    {
      "cell_type": "markdown",
      "source": [
        "# Import Library"
      ],
      "metadata": {
        "id": "AiRos_uaMnU5"
      }
    },
    {
      "cell_type": "code",
      "source": [
        "import pandas as pd\n",
        "import numpy as np\n",
        "import matplotlib.pyplot as plt\n",
        "import plotly.express as px\n",
        "import seaborn as sns\n",
        "import sklearn\n",
        "import keras\n",
        "\n",
        "from google.colab import files\n",
        "from keras import models, layers, optimizers\n",
        "from keras.models import Sequential\n",
        "from sklearn.feature_selection import chi2\n",
        "from sklearn.preprocessing import LabelEncoder\n",
        "from sklearn.preprocessing import StandardScaler\n",
        "from sklearn.model_selection import train_test_split\n",
        "from sklearn.metrics import mean_absolute_error, mean_squared_error, r2_score"
      ],
      "metadata": {
        "id": "wTdoKyjXMm8x"
      },
      "execution_count": null,
      "outputs": []
    },
    {
      "cell_type": "markdown",
      "source": [
        " # Data Understanding"
      ],
      "metadata": {
        "id": "wux13sOWYwRS"
      }
    },
    {
      "cell_type": "markdown",
      "source": [
        "## Bussines Understanding\n",
        "**Problem :**\n",
        "\n",
        "---\n",
        "This study aims to analyze flight booking data from the \"Ease My Trip\" website to identify patterns and factors influencing bookings, as well as to predict target variables using linear regression. The research will explore data distribution, test statistical hypotheses, and assess significant factors affecting ticket prices and booking numbers. These findings are expected to provide valuable insights that help prospective passengers make better decisions when booking flight tickets through the platform.\n",
        "\n",
        "**Goals :**\n",
        "\n",
        "---\n",
        "The objective of the study is to analyse the flight booking dataset obtained from “Ease My Trip” website and to conduct various statistical hypothesis tests in order to get meaningful information from it. The 'Linear Regression' statistical algorithm would be used to train the dataset and predict a continuous target variable. 'Easemytrip' is an internet platform for booking flight tickets, and hence a platform that potential passengers use to buy tickets. A thorough study of the data will aid in the discovery of valuable insights that will be of enormous value to passengers."
      ],
      "metadata": {
        "id": "yweqRFkmY1_b"
      }
    },
    {
      "cell_type": "markdown",
      "source": [
        "## Data Description\n",
        "\n",
        "1. Airline: The name of the airline company is stored in the airline column. It is a categorical feature having 6 different airlines.\n",
        "2. Flight: Flight stores information regarding the plane's flight code. It is a categorical feature.\n",
        "3. Source City: City from which the flight takes off. It is a categorical feature having 6 unique cities.\n",
        "4. Departure Time: This is a derived categorical feature obtained created by grouping time periods into bins. It stores information about the departure time and have 6 unique time labels.\n",
        "5. Stops: A categorical feature with 3 distinct values that stores the number of stops between the source and destination cities.\n",
        "6. Arrival Time: This is a derived categorical feature created by grouping time intervals into bins. It has six distinct time labels and keeps information about the arrival time.\n",
        "7. Destination City: City where the flight will land. It is a categorical feature having 6 unique cities.\n",
        "8. Class: A categorical feature that contains information on seat class; it has two distinct values: Business and Economy.\n",
        "9. Duration: A continuous feature that displays the overall amount of time it takes to travel between cities in hours.\n",
        "10. Days Left: This is a derived characteristic that is calculated by subtracting the trip date by the booking date.\n",
        "11. Price: Target variable stores information of the ticket price.\n",
        "\n",
        "---\n",
        "Transalte to Indonesia\n",
        "\n",
        "---\n",
        "1. Airline: Nama perusahaan maskapai penerbangan disimpan pada kolom maskapai penerbangan. Ini adalah fitur kategoris yang memiliki 6 maskapai berbeda.\n",
        "2. Flight: Penerbangan menyimpan informasi mengenai kode penerbangan pesawat. Ini adalah fitur kategoris.\n",
        "3. Source City: Kota asal penerbangan lepas landas. Ini adalah fitur kategoris yang memiliki 6 kota unik.\n",
        "4. Departure Time: Ini adalah fitur kategoris turunan yang diperoleh dengan mengelompokkan periode waktu ke dalam bin. Ini menyimpan informasi tentang waktu keberangkatan dan memiliki 6 label waktu unik.\n",
        "5. Stops: Fitur kategorikal dengan 3 nilai berbeda yang menyimpan jumlah perhentian antara kota sumber dan kota tujuan.\n",
        "6. Arrival Time: Ini adalah fitur kategoris turunan yang dibuat dengan mengelompokkan interval waktu ke dalam bin. Ini memiliki enam label waktu berbeda dan menyimpan informasi tentang waktu kedatangan.\n",
        "7. Destination City: Kota dimana penerbangan akan mendarat. Ini adalah fitur kategoris yang memiliki 6 kota unik.\n",
        "8. Class: Fitur kategorikal yang berisi informasi kelas kursi; ia memiliki dua nilai berbeda: Bisnis dan Ekonomi.\n",
        "9. Duration: Fitur berkelanjutan yang menampilkan jumlah keseluruhan waktu yang diperlukan untuk melakukan perjalanan antar kota dalam hitungan jam.\n",
        "10. Days left: Ini adalah karakteristik turunan yang dihitung dengan mengurangkan tanggal perjalanan dengan tanggal pemesanan.\n",
        "11. Price: Variabel target menyimpan informasi harga tiket.\n"
      ],
      "metadata": {
        "id": "ot9FDC5hY6bP"
      }
    },
    {
      "cell_type": "markdown",
      "source": [
        "# Import Dataset"
      ],
      "metadata": {
        "id": "Q5uiA9BSNeKB"
      }
    },
    {
      "cell_type": "code",
      "source": [
        "from google.colab import drive\n",
        "drive.mount('/content/drive')"
      ],
      "metadata": {
        "id": "ruQ9jQ5zRBhn",
        "colab": {
          "base_uri": "https://localhost:8080/"
        },
        "outputId": "82e23cc6-5b71-41c8-9d00-82294a20b94c"
      },
      "execution_count": null,
      "outputs": [
        {
          "output_type": "stream",
          "name": "stdout",
          "text": [
            "Drive already mounted at /content/drive; to attempt to forcibly remount, call drive.mount(\"/content/drive\", force_remount=True).\n"
          ]
        }
      ]
    },
    {
      "cell_type": "code",
      "source": [
        "path = \"/content/drive/MyDrive/Colab Notebooks/Flight Price Prediction/dataset/Clean_Dataset.csv\"\n",
        "Data = pd.read_csv(path)"
      ],
      "metadata": {
        "id": "cZnjtZjwPMV-"
      },
      "execution_count": null,
      "outputs": []
    },
    {
      "cell_type": "code",
      "source": [
        "# Create Data Frame\n",
        "df=pd.DataFrame(Data)\n",
        "df"
      ],
      "metadata": {
        "id": "8l_CXi0eRkjc",
        "colab": {
          "base_uri": "https://localhost:8080/",
          "height": 782
        },
        "outputId": "fd249ae3-e9bf-42c8-8d70-b4d88b02e8a0"
      },
      "execution_count": null,
      "outputs": [
        {
          "output_type": "execute_result",
          "data": {
            "text/plain": [
              "        Unnamed: 0   airline   flight source_city departure_time stops  \\\n",
              "0                0  SpiceJet  SG-8709       Delhi        Evening  zero   \n",
              "1                1  SpiceJet  SG-8157       Delhi  Early_Morning  zero   \n",
              "2                2   AirAsia   I5-764       Delhi  Early_Morning  zero   \n",
              "3                3   Vistara   UK-995       Delhi        Morning  zero   \n",
              "4                4   Vistara   UK-963       Delhi        Morning  zero   \n",
              "...            ...       ...      ...         ...            ...   ...   \n",
              "300148      300148   Vistara   UK-822     Chennai        Morning   one   \n",
              "300149      300149   Vistara   UK-826     Chennai      Afternoon   one   \n",
              "300150      300150   Vistara   UK-832     Chennai  Early_Morning   one   \n",
              "300151      300151   Vistara   UK-828     Chennai  Early_Morning   one   \n",
              "300152      300152   Vistara   UK-822     Chennai        Morning   one   \n",
              "\n",
              "         arrival_time destination_city     class  duration  days_left  price  \n",
              "0               Night           Mumbai   Economy      2.17          1   5953  \n",
              "1             Morning           Mumbai   Economy      2.33          1   5953  \n",
              "2       Early_Morning           Mumbai   Economy      2.17          1   5956  \n",
              "3           Afternoon           Mumbai   Economy      2.25          1   5955  \n",
              "4             Morning           Mumbai   Economy      2.33          1   5955  \n",
              "...               ...              ...       ...       ...        ...    ...  \n",
              "300148        Evening        Hyderabad  Business     10.08         49  69265  \n",
              "300149          Night        Hyderabad  Business     10.42         49  77105  \n",
              "300150          Night        Hyderabad  Business     13.83         49  79099  \n",
              "300151        Evening        Hyderabad  Business     10.00         49  81585  \n",
              "300152        Evening        Hyderabad  Business     10.08         49  81585  \n",
              "\n",
              "[300153 rows x 12 columns]"
            ],
            "text/html": [
              "\n",
              "  <div id=\"df-04b2bee1-bf89-4ff1-9b29-3c1eff461def\" class=\"colab-df-container\">\n",
              "    <div>\n",
              "<style scoped>\n",
              "    .dataframe tbody tr th:only-of-type {\n",
              "        vertical-align: middle;\n",
              "    }\n",
              "\n",
              "    .dataframe tbody tr th {\n",
              "        vertical-align: top;\n",
              "    }\n",
              "\n",
              "    .dataframe thead th {\n",
              "        text-align: right;\n",
              "    }\n",
              "</style>\n",
              "<table border=\"1\" class=\"dataframe\">\n",
              "  <thead>\n",
              "    <tr style=\"text-align: right;\">\n",
              "      <th></th>\n",
              "      <th>Unnamed: 0</th>\n",
              "      <th>airline</th>\n",
              "      <th>flight</th>\n",
              "      <th>source_city</th>\n",
              "      <th>departure_time</th>\n",
              "      <th>stops</th>\n",
              "      <th>arrival_time</th>\n",
              "      <th>destination_city</th>\n",
              "      <th>class</th>\n",
              "      <th>duration</th>\n",
              "      <th>days_left</th>\n",
              "      <th>price</th>\n",
              "    </tr>\n",
              "  </thead>\n",
              "  <tbody>\n",
              "    <tr>\n",
              "      <th>0</th>\n",
              "      <td>0</td>\n",
              "      <td>SpiceJet</td>\n",
              "      <td>SG-8709</td>\n",
              "      <td>Delhi</td>\n",
              "      <td>Evening</td>\n",
              "      <td>zero</td>\n",
              "      <td>Night</td>\n",
              "      <td>Mumbai</td>\n",
              "      <td>Economy</td>\n",
              "      <td>2.17</td>\n",
              "      <td>1</td>\n",
              "      <td>5953</td>\n",
              "    </tr>\n",
              "    <tr>\n",
              "      <th>1</th>\n",
              "      <td>1</td>\n",
              "      <td>SpiceJet</td>\n",
              "      <td>SG-8157</td>\n",
              "      <td>Delhi</td>\n",
              "      <td>Early_Morning</td>\n",
              "      <td>zero</td>\n",
              "      <td>Morning</td>\n",
              "      <td>Mumbai</td>\n",
              "      <td>Economy</td>\n",
              "      <td>2.33</td>\n",
              "      <td>1</td>\n",
              "      <td>5953</td>\n",
              "    </tr>\n",
              "    <tr>\n",
              "      <th>2</th>\n",
              "      <td>2</td>\n",
              "      <td>AirAsia</td>\n",
              "      <td>I5-764</td>\n",
              "      <td>Delhi</td>\n",
              "      <td>Early_Morning</td>\n",
              "      <td>zero</td>\n",
              "      <td>Early_Morning</td>\n",
              "      <td>Mumbai</td>\n",
              "      <td>Economy</td>\n",
              "      <td>2.17</td>\n",
              "      <td>1</td>\n",
              "      <td>5956</td>\n",
              "    </tr>\n",
              "    <tr>\n",
              "      <th>3</th>\n",
              "      <td>3</td>\n",
              "      <td>Vistara</td>\n",
              "      <td>UK-995</td>\n",
              "      <td>Delhi</td>\n",
              "      <td>Morning</td>\n",
              "      <td>zero</td>\n",
              "      <td>Afternoon</td>\n",
              "      <td>Mumbai</td>\n",
              "      <td>Economy</td>\n",
              "      <td>2.25</td>\n",
              "      <td>1</td>\n",
              "      <td>5955</td>\n",
              "    </tr>\n",
              "    <tr>\n",
              "      <th>4</th>\n",
              "      <td>4</td>\n",
              "      <td>Vistara</td>\n",
              "      <td>UK-963</td>\n",
              "      <td>Delhi</td>\n",
              "      <td>Morning</td>\n",
              "      <td>zero</td>\n",
              "      <td>Morning</td>\n",
              "      <td>Mumbai</td>\n",
              "      <td>Economy</td>\n",
              "      <td>2.33</td>\n",
              "      <td>1</td>\n",
              "      <td>5955</td>\n",
              "    </tr>\n",
              "    <tr>\n",
              "      <th>...</th>\n",
              "      <td>...</td>\n",
              "      <td>...</td>\n",
              "      <td>...</td>\n",
              "      <td>...</td>\n",
              "      <td>...</td>\n",
              "      <td>...</td>\n",
              "      <td>...</td>\n",
              "      <td>...</td>\n",
              "      <td>...</td>\n",
              "      <td>...</td>\n",
              "      <td>...</td>\n",
              "      <td>...</td>\n",
              "    </tr>\n",
              "    <tr>\n",
              "      <th>300148</th>\n",
              "      <td>300148</td>\n",
              "      <td>Vistara</td>\n",
              "      <td>UK-822</td>\n",
              "      <td>Chennai</td>\n",
              "      <td>Morning</td>\n",
              "      <td>one</td>\n",
              "      <td>Evening</td>\n",
              "      <td>Hyderabad</td>\n",
              "      <td>Business</td>\n",
              "      <td>10.08</td>\n",
              "      <td>49</td>\n",
              "      <td>69265</td>\n",
              "    </tr>\n",
              "    <tr>\n",
              "      <th>300149</th>\n",
              "      <td>300149</td>\n",
              "      <td>Vistara</td>\n",
              "      <td>UK-826</td>\n",
              "      <td>Chennai</td>\n",
              "      <td>Afternoon</td>\n",
              "      <td>one</td>\n",
              "      <td>Night</td>\n",
              "      <td>Hyderabad</td>\n",
              "      <td>Business</td>\n",
              "      <td>10.42</td>\n",
              "      <td>49</td>\n",
              "      <td>77105</td>\n",
              "    </tr>\n",
              "    <tr>\n",
              "      <th>300150</th>\n",
              "      <td>300150</td>\n",
              "      <td>Vistara</td>\n",
              "      <td>UK-832</td>\n",
              "      <td>Chennai</td>\n",
              "      <td>Early_Morning</td>\n",
              "      <td>one</td>\n",
              "      <td>Night</td>\n",
              "      <td>Hyderabad</td>\n",
              "      <td>Business</td>\n",
              "      <td>13.83</td>\n",
              "      <td>49</td>\n",
              "      <td>79099</td>\n",
              "    </tr>\n",
              "    <tr>\n",
              "      <th>300151</th>\n",
              "      <td>300151</td>\n",
              "      <td>Vistara</td>\n",
              "      <td>UK-828</td>\n",
              "      <td>Chennai</td>\n",
              "      <td>Early_Morning</td>\n",
              "      <td>one</td>\n",
              "      <td>Evening</td>\n",
              "      <td>Hyderabad</td>\n",
              "      <td>Business</td>\n",
              "      <td>10.00</td>\n",
              "      <td>49</td>\n",
              "      <td>81585</td>\n",
              "    </tr>\n",
              "    <tr>\n",
              "      <th>300152</th>\n",
              "      <td>300152</td>\n",
              "      <td>Vistara</td>\n",
              "      <td>UK-822</td>\n",
              "      <td>Chennai</td>\n",
              "      <td>Morning</td>\n",
              "      <td>one</td>\n",
              "      <td>Evening</td>\n",
              "      <td>Hyderabad</td>\n",
              "      <td>Business</td>\n",
              "      <td>10.08</td>\n",
              "      <td>49</td>\n",
              "      <td>81585</td>\n",
              "    </tr>\n",
              "  </tbody>\n",
              "</table>\n",
              "<p>300153 rows × 12 columns</p>\n",
              "</div>\n",
              "    <div class=\"colab-df-buttons\">\n",
              "\n",
              "  <div class=\"colab-df-container\">\n",
              "    <button class=\"colab-df-convert\" onclick=\"convertToInteractive('df-04b2bee1-bf89-4ff1-9b29-3c1eff461def')\"\n",
              "            title=\"Convert this dataframe to an interactive table.\"\n",
              "            style=\"display:none;\">\n",
              "\n",
              "  <svg xmlns=\"http://www.w3.org/2000/svg\" height=\"24px\" viewBox=\"0 -960 960 960\">\n",
              "    <path d=\"M120-120v-720h720v720H120Zm60-500h600v-160H180v160Zm220 220h160v-160H400v160Zm0 220h160v-160H400v160ZM180-400h160v-160H180v160Zm440 0h160v-160H620v160ZM180-180h160v-160H180v160Zm440 0h160v-160H620v160Z\"/>\n",
              "  </svg>\n",
              "    </button>\n",
              "\n",
              "  <style>\n",
              "    .colab-df-container {\n",
              "      display:flex;\n",
              "      gap: 12px;\n",
              "    }\n",
              "\n",
              "    .colab-df-convert {\n",
              "      background-color: #E8F0FE;\n",
              "      border: none;\n",
              "      border-radius: 50%;\n",
              "      cursor: pointer;\n",
              "      display: none;\n",
              "      fill: #1967D2;\n",
              "      height: 32px;\n",
              "      padding: 0 0 0 0;\n",
              "      width: 32px;\n",
              "    }\n",
              "\n",
              "    .colab-df-convert:hover {\n",
              "      background-color: #E2EBFA;\n",
              "      box-shadow: 0px 1px 2px rgba(60, 64, 67, 0.3), 0px 1px 3px 1px rgba(60, 64, 67, 0.15);\n",
              "      fill: #174EA6;\n",
              "    }\n",
              "\n",
              "    .colab-df-buttons div {\n",
              "      margin-bottom: 4px;\n",
              "    }\n",
              "\n",
              "    [theme=dark] .colab-df-convert {\n",
              "      background-color: #3B4455;\n",
              "      fill: #D2E3FC;\n",
              "    }\n",
              "\n",
              "    [theme=dark] .colab-df-convert:hover {\n",
              "      background-color: #434B5C;\n",
              "      box-shadow: 0px 1px 3px 1px rgba(0, 0, 0, 0.15);\n",
              "      filter: drop-shadow(0px 1px 2px rgba(0, 0, 0, 0.3));\n",
              "      fill: #FFFFFF;\n",
              "    }\n",
              "  </style>\n",
              "\n",
              "    <script>\n",
              "      const buttonEl =\n",
              "        document.querySelector('#df-04b2bee1-bf89-4ff1-9b29-3c1eff461def button.colab-df-convert');\n",
              "      buttonEl.style.display =\n",
              "        google.colab.kernel.accessAllowed ? 'block' : 'none';\n",
              "\n",
              "      async function convertToInteractive(key) {\n",
              "        const element = document.querySelector('#df-04b2bee1-bf89-4ff1-9b29-3c1eff461def');\n",
              "        const dataTable =\n",
              "          await google.colab.kernel.invokeFunction('convertToInteractive',\n",
              "                                                    [key], {});\n",
              "        if (!dataTable) return;\n",
              "\n",
              "        const docLinkHtml = 'Like what you see? Visit the ' +\n",
              "          '<a target=\"_blank\" href=https://colab.research.google.com/notebooks/data_table.ipynb>data table notebook</a>'\n",
              "          + ' to learn more about interactive tables.';\n",
              "        element.innerHTML = '';\n",
              "        dataTable['output_type'] = 'display_data';\n",
              "        await google.colab.output.renderOutput(dataTable, element);\n",
              "        const docLink = document.createElement('div');\n",
              "        docLink.innerHTML = docLinkHtml;\n",
              "        element.appendChild(docLink);\n",
              "      }\n",
              "    </script>\n",
              "  </div>\n",
              "\n",
              "\n",
              "<div id=\"df-00f8f549-fccf-42f1-b18c-298ede1cd057\">\n",
              "  <button class=\"colab-df-quickchart\" onclick=\"quickchart('df-00f8f549-fccf-42f1-b18c-298ede1cd057')\"\n",
              "            title=\"Suggest charts\"\n",
              "            style=\"display:none;\">\n",
              "\n",
              "<svg xmlns=\"http://www.w3.org/2000/svg\" height=\"24px\"viewBox=\"0 0 24 24\"\n",
              "     width=\"24px\">\n",
              "    <g>\n",
              "        <path d=\"M19 3H5c-1.1 0-2 .9-2 2v14c0 1.1.9 2 2 2h14c1.1 0 2-.9 2-2V5c0-1.1-.9-2-2-2zM9 17H7v-7h2v7zm4 0h-2V7h2v10zm4 0h-2v-4h2v4z\"/>\n",
              "    </g>\n",
              "</svg>\n",
              "  </button>\n",
              "\n",
              "<style>\n",
              "  .colab-df-quickchart {\n",
              "      --bg-color: #E8F0FE;\n",
              "      --fill-color: #1967D2;\n",
              "      --hover-bg-color: #E2EBFA;\n",
              "      --hover-fill-color: #174EA6;\n",
              "      --disabled-fill-color: #AAA;\n",
              "      --disabled-bg-color: #DDD;\n",
              "  }\n",
              "\n",
              "  [theme=dark] .colab-df-quickchart {\n",
              "      --bg-color: #3B4455;\n",
              "      --fill-color: #D2E3FC;\n",
              "      --hover-bg-color: #434B5C;\n",
              "      --hover-fill-color: #FFFFFF;\n",
              "      --disabled-bg-color: #3B4455;\n",
              "      --disabled-fill-color: #666;\n",
              "  }\n",
              "\n",
              "  .colab-df-quickchart {\n",
              "    background-color: var(--bg-color);\n",
              "    border: none;\n",
              "    border-radius: 50%;\n",
              "    cursor: pointer;\n",
              "    display: none;\n",
              "    fill: var(--fill-color);\n",
              "    height: 32px;\n",
              "    padding: 0;\n",
              "    width: 32px;\n",
              "  }\n",
              "\n",
              "  .colab-df-quickchart:hover {\n",
              "    background-color: var(--hover-bg-color);\n",
              "    box-shadow: 0 1px 2px rgba(60, 64, 67, 0.3), 0 1px 3px 1px rgba(60, 64, 67, 0.15);\n",
              "    fill: var(--button-hover-fill-color);\n",
              "  }\n",
              "\n",
              "  .colab-df-quickchart-complete:disabled,\n",
              "  .colab-df-quickchart-complete:disabled:hover {\n",
              "    background-color: var(--disabled-bg-color);\n",
              "    fill: var(--disabled-fill-color);\n",
              "    box-shadow: none;\n",
              "  }\n",
              "\n",
              "  .colab-df-spinner {\n",
              "    border: 2px solid var(--fill-color);\n",
              "    border-color: transparent;\n",
              "    border-bottom-color: var(--fill-color);\n",
              "    animation:\n",
              "      spin 1s steps(1) infinite;\n",
              "  }\n",
              "\n",
              "  @keyframes spin {\n",
              "    0% {\n",
              "      border-color: transparent;\n",
              "      border-bottom-color: var(--fill-color);\n",
              "      border-left-color: var(--fill-color);\n",
              "    }\n",
              "    20% {\n",
              "      border-color: transparent;\n",
              "      border-left-color: var(--fill-color);\n",
              "      border-top-color: var(--fill-color);\n",
              "    }\n",
              "    30% {\n",
              "      border-color: transparent;\n",
              "      border-left-color: var(--fill-color);\n",
              "      border-top-color: var(--fill-color);\n",
              "      border-right-color: var(--fill-color);\n",
              "    }\n",
              "    40% {\n",
              "      border-color: transparent;\n",
              "      border-right-color: var(--fill-color);\n",
              "      border-top-color: var(--fill-color);\n",
              "    }\n",
              "    60% {\n",
              "      border-color: transparent;\n",
              "      border-right-color: var(--fill-color);\n",
              "    }\n",
              "    80% {\n",
              "      border-color: transparent;\n",
              "      border-right-color: var(--fill-color);\n",
              "      border-bottom-color: var(--fill-color);\n",
              "    }\n",
              "    90% {\n",
              "      border-color: transparent;\n",
              "      border-bottom-color: var(--fill-color);\n",
              "    }\n",
              "  }\n",
              "</style>\n",
              "\n",
              "  <script>\n",
              "    async function quickchart(key) {\n",
              "      const quickchartButtonEl =\n",
              "        document.querySelector('#' + key + ' button');\n",
              "      quickchartButtonEl.disabled = true;  // To prevent multiple clicks.\n",
              "      quickchartButtonEl.classList.add('colab-df-spinner');\n",
              "      try {\n",
              "        const charts = await google.colab.kernel.invokeFunction(\n",
              "            'suggestCharts', [key], {});\n",
              "      } catch (error) {\n",
              "        console.error('Error during call to suggestCharts:', error);\n",
              "      }\n",
              "      quickchartButtonEl.classList.remove('colab-df-spinner');\n",
              "      quickchartButtonEl.classList.add('colab-df-quickchart-complete');\n",
              "    }\n",
              "    (() => {\n",
              "      let quickchartButtonEl =\n",
              "        document.querySelector('#df-00f8f549-fccf-42f1-b18c-298ede1cd057 button');\n",
              "      quickchartButtonEl.style.display =\n",
              "        google.colab.kernel.accessAllowed ? 'block' : 'none';\n",
              "    })();\n",
              "  </script>\n",
              "</div>\n",
              "    </div>\n",
              "  </div>\n"
            ],
            "application/vnd.google.colaboratory.intrinsic+json": {
              "type": "dataframe",
              "variable_name": "df"
            }
          },
          "metadata": {},
          "execution_count": 77
        },
        {
          "output_type": "stream",
          "name": "stdout",
          "text": [
            "Warning: total number of rows (300153) exceeds max_rows (20000). Limiting to first (20000) rows.\n",
            "Error: Runtime no longer has a reference to this dataframe, please re-run this cell and try again.\n"
          ]
        }
      ]
    },
    {
      "cell_type": "markdown",
      "source": [
        "# Data Preparation"
      ],
      "metadata": {
        "id": "s5AJOeUZRurB"
      }
    },
    {
      "cell_type": "code",
      "source": [
        "df.info()"
      ],
      "metadata": {
        "id": "OaD95CArRzyR",
        "colab": {
          "base_uri": "https://localhost:8080/"
        },
        "outputId": "a6134d86-3475-4264-91c4-ac2e9f3566e1"
      },
      "execution_count": null,
      "outputs": [
        {
          "output_type": "stream",
          "name": "stdout",
          "text": [
            "<class 'pandas.core.frame.DataFrame'>\n",
            "RangeIndex: 300153 entries, 0 to 300152\n",
            "Data columns (total 12 columns):\n",
            " #   Column            Non-Null Count   Dtype  \n",
            "---  ------            --------------   -----  \n",
            " 0   Unnamed: 0        300153 non-null  int64  \n",
            " 1   airline           300153 non-null  object \n",
            " 2   flight            300153 non-null  object \n",
            " 3   source_city       300153 non-null  object \n",
            " 4   departure_time    300153 non-null  object \n",
            " 5   stops             300153 non-null  object \n",
            " 6   arrival_time      300153 non-null  object \n",
            " 7   destination_city  300153 non-null  object \n",
            " 8   class             300153 non-null  object \n",
            " 9   duration          300153 non-null  float64\n",
            " 10  days_left         300153 non-null  int64  \n",
            " 11  price             300153 non-null  int64  \n",
            "dtypes: float64(1), int64(3), object(8)\n",
            "memory usage: 27.5+ MB\n"
          ]
        }
      ]
    },
    {
      "cell_type": "code",
      "source": [
        "df.shape"
      ],
      "metadata": {
        "id": "xipvvjApR3pR",
        "colab": {
          "base_uri": "https://localhost:8080/"
        },
        "outputId": "73b3dc05-6bee-4ef5-b9a9-6d2ec39736b0"
      },
      "execution_count": null,
      "outputs": [
        {
          "output_type": "execute_result",
          "data": {
            "text/plain": [
              "(300153, 12)"
            ]
          },
          "metadata": {},
          "execution_count": 79
        }
      ]
    },
    {
      "cell_type": "markdown",
      "source": [
        "## Check Missing Value"
      ],
      "metadata": {
        "id": "lFRHXqeOSf4l"
      }
    },
    {
      "cell_type": "code",
      "source": [
        "df.isnull().sum()"
      ],
      "metadata": {
        "id": "ly9tSZ8xSA1C",
        "colab": {
          "base_uri": "https://localhost:8080/"
        },
        "outputId": "05650de4-8bcd-4b67-b91b-739bab7a5263"
      },
      "execution_count": null,
      "outputs": [
        {
          "output_type": "execute_result",
          "data": {
            "text/plain": [
              "Unnamed: 0          0\n",
              "airline             0\n",
              "flight              0\n",
              "source_city         0\n",
              "departure_time      0\n",
              "stops               0\n",
              "arrival_time        0\n",
              "destination_city    0\n",
              "class               0\n",
              "duration            0\n",
              "days_left           0\n",
              "price               0\n",
              "dtype: int64"
            ]
          },
          "metadata": {},
          "execution_count": 80
        }
      ]
    },
    {
      "cell_type": "code",
      "source": [
        "df.isin(['?']).sum()"
      ],
      "metadata": {
        "id": "3NHznYCFSXGx",
        "colab": {
          "base_uri": "https://localhost:8080/"
        },
        "outputId": "5ed2b67d-da60-43de-fb9f-6b4e3b40e5f6"
      },
      "execution_count": null,
      "outputs": [
        {
          "output_type": "execute_result",
          "data": {
            "text/plain": [
              "Unnamed: 0          0\n",
              "airline             0\n",
              "flight              0\n",
              "source_city         0\n",
              "departure_time      0\n",
              "stops               0\n",
              "arrival_time        0\n",
              "destination_city    0\n",
              "class               0\n",
              "duration            0\n",
              "days_left           0\n",
              "price               0\n",
              "dtype: int64"
            ]
          },
          "metadata": {},
          "execution_count": 81
        }
      ]
    },
    {
      "cell_type": "markdown",
      "source": [
        "## Replace Value Data"
      ],
      "metadata": {
        "id": "oxqv0FDvTIa7"
      }
    },
    {
      "cell_type": "code",
      "source": [
        "df.info()"
      ],
      "metadata": {
        "id": "UihEQWvEUtBh",
        "colab": {
          "base_uri": "https://localhost:8080/"
        },
        "outputId": "fcfdbf11-710e-4721-c6cd-67aa230eb7e6"
      },
      "execution_count": null,
      "outputs": [
        {
          "output_type": "stream",
          "name": "stdout",
          "text": [
            "<class 'pandas.core.frame.DataFrame'>\n",
            "RangeIndex: 300153 entries, 0 to 300152\n",
            "Data columns (total 12 columns):\n",
            " #   Column            Non-Null Count   Dtype  \n",
            "---  ------            --------------   -----  \n",
            " 0   Unnamed: 0        300153 non-null  int64  \n",
            " 1   airline           300153 non-null  object \n",
            " 2   flight            300153 non-null  object \n",
            " 3   source_city       300153 non-null  object \n",
            " 4   departure_time    300153 non-null  object \n",
            " 5   stops             300153 non-null  object \n",
            " 6   arrival_time      300153 non-null  object \n",
            " 7   destination_city  300153 non-null  object \n",
            " 8   class             300153 non-null  object \n",
            " 9   duration          300153 non-null  float64\n",
            " 10  days_left         300153 non-null  int64  \n",
            " 11  price             300153 non-null  int64  \n",
            "dtypes: float64(1), int64(3), object(8)\n",
            "memory usage: 27.5+ MB\n"
          ]
        }
      ]
    },
    {
      "cell_type": "code",
      "source": [
        "df['airline'].unique()"
      ],
      "metadata": {
        "id": "U6_-3BqilJw1",
        "colab": {
          "base_uri": "https://localhost:8080/"
        },
        "outputId": "6fc4e3a1-237f-44f9-cfde-84a46ff3800a"
      },
      "execution_count": null,
      "outputs": [
        {
          "output_type": "execute_result",
          "data": {
            "text/plain": [
              "array(['SpiceJet', 'AirAsia', 'Vistara', 'GO_FIRST', 'Indigo',\n",
              "       'Air_India'], dtype=object)"
            ]
          },
          "metadata": {},
          "execution_count": 83
        }
      ]
    },
    {
      "cell_type": "code",
      "source": [
        "# replace isi data variabel class\n",
        "df['class'] = df['class'].replace('Business',1)\n",
        "df['class'] = df['class'].replace('Economy',0)\n"
      ],
      "metadata": {
        "id": "e3rwwwrO-BjL"
      },
      "execution_count": null,
      "outputs": []
    },
    {
      "cell_type": "code",
      "source": [
        "# replace isi data variabel stop\n",
        "\n",
        "df['stops'] = df['stops'].replace('zero',0)\n",
        "df['stops'] = df['stops'].replace('one',1)\n",
        "df['stops'] = df['stops'].replace('two_or_more',2)\n"
      ],
      "metadata": {
        "id": "tr9GHbxMuU0I"
      },
      "execution_count": null,
      "outputs": []
    },
    {
      "cell_type": "markdown",
      "source": [
        "Label Encoder"
      ],
      "metadata": {
        "id": "nNwIzEFZWcdK"
      }
    },
    {
      "cell_type": "code",
      "source": [
        "label_encoding_features = ['airline', 'flight','departure_time','arrival_time','source_city', 'destination_city']\n",
        "\n",
        "label_encoder = LabelEncoder()\n",
        "for col in label_encoding_features:\n",
        "    df[col] = label_encoder.fit_transform(df[col])"
      ],
      "metadata": {
        "id": "apDc3lvCUVef"
      },
      "execution_count": null,
      "outputs": []
    },
    {
      "cell_type": "code",
      "source": [
        "df.dtypes"
      ],
      "metadata": {
        "id": "8bdpPL94YUQq",
        "colab": {
          "base_uri": "https://localhost:8080/"
        },
        "outputId": "eefd8d30-e91a-4790-e33d-b4be18338a54"
      },
      "execution_count": null,
      "outputs": [
        {
          "output_type": "execute_result",
          "data": {
            "text/plain": [
              "Unnamed: 0            int64\n",
              "airline               int64\n",
              "flight                int64\n",
              "source_city           int64\n",
              "departure_time        int64\n",
              "stops                 int64\n",
              "arrival_time          int64\n",
              "destination_city      int64\n",
              "class                 int64\n",
              "duration            float64\n",
              "days_left             int64\n",
              "price                 int64\n",
              "dtype: object"
            ]
          },
          "metadata": {},
          "execution_count": 88
        }
      ]
    },
    {
      "cell_type": "code",
      "source": [
        "df.shape"
      ],
      "metadata": {
        "id": "hnfwv_Rch-O5",
        "colab": {
          "base_uri": "https://localhost:8080/"
        },
        "outputId": "e5dc9eba-8265-4866-d25b-4fd064b08b71"
      },
      "execution_count": null,
      "outputs": [
        {
          "output_type": "execute_result",
          "data": {
            "text/plain": [
              "(300153, 12)"
            ]
          },
          "metadata": {},
          "execution_count": 89
        }
      ]
    },
    {
      "cell_type": "code",
      "source": [
        "df"
      ],
      "metadata": {
        "id": "zg1duKojYb9D",
        "colab": {
          "base_uri": "https://localhost:8080/",
          "height": 461
        },
        "outputId": "dde06306-06d7-4dac-fc83-1e75c4cc4386"
      },
      "execution_count": null,
      "outputs": [
        {
          "output_type": "execute_result",
          "data": {
            "text/plain": [
              "        Unnamed: 0  airline  flight  source_city  departure_time  stops  \\\n",
              "0                0        4    1408            2               2      0   \n",
              "1                1        4    1387            2               1      0   \n",
              "2                2        0    1213            2               1      0   \n",
              "3                3        5    1559            2               4      0   \n",
              "4                4        5    1549            2               4      0   \n",
              "...            ...      ...     ...          ...             ...    ...   \n",
              "300148      300148        5    1477            1               4      1   \n",
              "300149      300149        5    1481            1               0      1   \n",
              "300150      300150        5    1486            1               1      1   \n",
              "300151      300151        5    1483            1               1      1   \n",
              "300152      300152        5    1477            1               4      1   \n",
              "\n",
              "        arrival_time  destination_city  class  duration  days_left  price  \n",
              "0                  5                 5      0      2.17          1   5953  \n",
              "1                  4                 5      0      2.33          1   5953  \n",
              "2                  1                 5      0      2.17          1   5956  \n",
              "3                  0                 5      0      2.25          1   5955  \n",
              "4                  4                 5      0      2.33          1   5955  \n",
              "...              ...               ...    ...       ...        ...    ...  \n",
              "300148             2                 3      1     10.08         49  69265  \n",
              "300149             5                 3      1     10.42         49  77105  \n",
              "300150             5                 3      1     13.83         49  79099  \n",
              "300151             2                 3      1     10.00         49  81585  \n",
              "300152             2                 3      1     10.08         49  81585  \n",
              "\n",
              "[300153 rows x 12 columns]"
            ],
            "text/html": [
              "\n",
              "  <div id=\"df-4f284b3a-f3b7-47e5-9c6b-7e2027df4234\" class=\"colab-df-container\">\n",
              "    <div>\n",
              "<style scoped>\n",
              "    .dataframe tbody tr th:only-of-type {\n",
              "        vertical-align: middle;\n",
              "    }\n",
              "\n",
              "    .dataframe tbody tr th {\n",
              "        vertical-align: top;\n",
              "    }\n",
              "\n",
              "    .dataframe thead th {\n",
              "        text-align: right;\n",
              "    }\n",
              "</style>\n",
              "<table border=\"1\" class=\"dataframe\">\n",
              "  <thead>\n",
              "    <tr style=\"text-align: right;\">\n",
              "      <th></th>\n",
              "      <th>Unnamed: 0</th>\n",
              "      <th>airline</th>\n",
              "      <th>flight</th>\n",
              "      <th>source_city</th>\n",
              "      <th>departure_time</th>\n",
              "      <th>stops</th>\n",
              "      <th>arrival_time</th>\n",
              "      <th>destination_city</th>\n",
              "      <th>class</th>\n",
              "      <th>duration</th>\n",
              "      <th>days_left</th>\n",
              "      <th>price</th>\n",
              "    </tr>\n",
              "  </thead>\n",
              "  <tbody>\n",
              "    <tr>\n",
              "      <th>0</th>\n",
              "      <td>0</td>\n",
              "      <td>4</td>\n",
              "      <td>1408</td>\n",
              "      <td>2</td>\n",
              "      <td>2</td>\n",
              "      <td>0</td>\n",
              "      <td>5</td>\n",
              "      <td>5</td>\n",
              "      <td>0</td>\n",
              "      <td>2.17</td>\n",
              "      <td>1</td>\n",
              "      <td>5953</td>\n",
              "    </tr>\n",
              "    <tr>\n",
              "      <th>1</th>\n",
              "      <td>1</td>\n",
              "      <td>4</td>\n",
              "      <td>1387</td>\n",
              "      <td>2</td>\n",
              "      <td>1</td>\n",
              "      <td>0</td>\n",
              "      <td>4</td>\n",
              "      <td>5</td>\n",
              "      <td>0</td>\n",
              "      <td>2.33</td>\n",
              "      <td>1</td>\n",
              "      <td>5953</td>\n",
              "    </tr>\n",
              "    <tr>\n",
              "      <th>2</th>\n",
              "      <td>2</td>\n",
              "      <td>0</td>\n",
              "      <td>1213</td>\n",
              "      <td>2</td>\n",
              "      <td>1</td>\n",
              "      <td>0</td>\n",
              "      <td>1</td>\n",
              "      <td>5</td>\n",
              "      <td>0</td>\n",
              "      <td>2.17</td>\n",
              "      <td>1</td>\n",
              "      <td>5956</td>\n",
              "    </tr>\n",
              "    <tr>\n",
              "      <th>3</th>\n",
              "      <td>3</td>\n",
              "      <td>5</td>\n",
              "      <td>1559</td>\n",
              "      <td>2</td>\n",
              "      <td>4</td>\n",
              "      <td>0</td>\n",
              "      <td>0</td>\n",
              "      <td>5</td>\n",
              "      <td>0</td>\n",
              "      <td>2.25</td>\n",
              "      <td>1</td>\n",
              "      <td>5955</td>\n",
              "    </tr>\n",
              "    <tr>\n",
              "      <th>4</th>\n",
              "      <td>4</td>\n",
              "      <td>5</td>\n",
              "      <td>1549</td>\n",
              "      <td>2</td>\n",
              "      <td>4</td>\n",
              "      <td>0</td>\n",
              "      <td>4</td>\n",
              "      <td>5</td>\n",
              "      <td>0</td>\n",
              "      <td>2.33</td>\n",
              "      <td>1</td>\n",
              "      <td>5955</td>\n",
              "    </tr>\n",
              "    <tr>\n",
              "      <th>...</th>\n",
              "      <td>...</td>\n",
              "      <td>...</td>\n",
              "      <td>...</td>\n",
              "      <td>...</td>\n",
              "      <td>...</td>\n",
              "      <td>...</td>\n",
              "      <td>...</td>\n",
              "      <td>...</td>\n",
              "      <td>...</td>\n",
              "      <td>...</td>\n",
              "      <td>...</td>\n",
              "      <td>...</td>\n",
              "    </tr>\n",
              "    <tr>\n",
              "      <th>300148</th>\n",
              "      <td>300148</td>\n",
              "      <td>5</td>\n",
              "      <td>1477</td>\n",
              "      <td>1</td>\n",
              "      <td>4</td>\n",
              "      <td>1</td>\n",
              "      <td>2</td>\n",
              "      <td>3</td>\n",
              "      <td>1</td>\n",
              "      <td>10.08</td>\n",
              "      <td>49</td>\n",
              "      <td>69265</td>\n",
              "    </tr>\n",
              "    <tr>\n",
              "      <th>300149</th>\n",
              "      <td>300149</td>\n",
              "      <td>5</td>\n",
              "      <td>1481</td>\n",
              "      <td>1</td>\n",
              "      <td>0</td>\n",
              "      <td>1</td>\n",
              "      <td>5</td>\n",
              "      <td>3</td>\n",
              "      <td>1</td>\n",
              "      <td>10.42</td>\n",
              "      <td>49</td>\n",
              "      <td>77105</td>\n",
              "    </tr>\n",
              "    <tr>\n",
              "      <th>300150</th>\n",
              "      <td>300150</td>\n",
              "      <td>5</td>\n",
              "      <td>1486</td>\n",
              "      <td>1</td>\n",
              "      <td>1</td>\n",
              "      <td>1</td>\n",
              "      <td>5</td>\n",
              "      <td>3</td>\n",
              "      <td>1</td>\n",
              "      <td>13.83</td>\n",
              "      <td>49</td>\n",
              "      <td>79099</td>\n",
              "    </tr>\n",
              "    <tr>\n",
              "      <th>300151</th>\n",
              "      <td>300151</td>\n",
              "      <td>5</td>\n",
              "      <td>1483</td>\n",
              "      <td>1</td>\n",
              "      <td>1</td>\n",
              "      <td>1</td>\n",
              "      <td>2</td>\n",
              "      <td>3</td>\n",
              "      <td>1</td>\n",
              "      <td>10.00</td>\n",
              "      <td>49</td>\n",
              "      <td>81585</td>\n",
              "    </tr>\n",
              "    <tr>\n",
              "      <th>300152</th>\n",
              "      <td>300152</td>\n",
              "      <td>5</td>\n",
              "      <td>1477</td>\n",
              "      <td>1</td>\n",
              "      <td>4</td>\n",
              "      <td>1</td>\n",
              "      <td>2</td>\n",
              "      <td>3</td>\n",
              "      <td>1</td>\n",
              "      <td>10.08</td>\n",
              "      <td>49</td>\n",
              "      <td>81585</td>\n",
              "    </tr>\n",
              "  </tbody>\n",
              "</table>\n",
              "<p>300153 rows × 12 columns</p>\n",
              "</div>\n",
              "    <div class=\"colab-df-buttons\">\n",
              "\n",
              "  <div class=\"colab-df-container\">\n",
              "    <button class=\"colab-df-convert\" onclick=\"convertToInteractive('df-4f284b3a-f3b7-47e5-9c6b-7e2027df4234')\"\n",
              "            title=\"Convert this dataframe to an interactive table.\"\n",
              "            style=\"display:none;\">\n",
              "\n",
              "  <svg xmlns=\"http://www.w3.org/2000/svg\" height=\"24px\" viewBox=\"0 -960 960 960\">\n",
              "    <path d=\"M120-120v-720h720v720H120Zm60-500h600v-160H180v160Zm220 220h160v-160H400v160Zm0 220h160v-160H400v160ZM180-400h160v-160H180v160Zm440 0h160v-160H620v160ZM180-180h160v-160H180v160Zm440 0h160v-160H620v160Z\"/>\n",
              "  </svg>\n",
              "    </button>\n",
              "\n",
              "  <style>\n",
              "    .colab-df-container {\n",
              "      display:flex;\n",
              "      gap: 12px;\n",
              "    }\n",
              "\n",
              "    .colab-df-convert {\n",
              "      background-color: #E8F0FE;\n",
              "      border: none;\n",
              "      border-radius: 50%;\n",
              "      cursor: pointer;\n",
              "      display: none;\n",
              "      fill: #1967D2;\n",
              "      height: 32px;\n",
              "      padding: 0 0 0 0;\n",
              "      width: 32px;\n",
              "    }\n",
              "\n",
              "    .colab-df-convert:hover {\n",
              "      background-color: #E2EBFA;\n",
              "      box-shadow: 0px 1px 2px rgba(60, 64, 67, 0.3), 0px 1px 3px 1px rgba(60, 64, 67, 0.15);\n",
              "      fill: #174EA6;\n",
              "    }\n",
              "\n",
              "    .colab-df-buttons div {\n",
              "      margin-bottom: 4px;\n",
              "    }\n",
              "\n",
              "    [theme=dark] .colab-df-convert {\n",
              "      background-color: #3B4455;\n",
              "      fill: #D2E3FC;\n",
              "    }\n",
              "\n",
              "    [theme=dark] .colab-df-convert:hover {\n",
              "      background-color: #434B5C;\n",
              "      box-shadow: 0px 1px 3px 1px rgba(0, 0, 0, 0.15);\n",
              "      filter: drop-shadow(0px 1px 2px rgba(0, 0, 0, 0.3));\n",
              "      fill: #FFFFFF;\n",
              "    }\n",
              "  </style>\n",
              "\n",
              "    <script>\n",
              "      const buttonEl =\n",
              "        document.querySelector('#df-4f284b3a-f3b7-47e5-9c6b-7e2027df4234 button.colab-df-convert');\n",
              "      buttonEl.style.display =\n",
              "        google.colab.kernel.accessAllowed ? 'block' : 'none';\n",
              "\n",
              "      async function convertToInteractive(key) {\n",
              "        const element = document.querySelector('#df-4f284b3a-f3b7-47e5-9c6b-7e2027df4234');\n",
              "        const dataTable =\n",
              "          await google.colab.kernel.invokeFunction('convertToInteractive',\n",
              "                                                    [key], {});\n",
              "        if (!dataTable) return;\n",
              "\n",
              "        const docLinkHtml = 'Like what you see? Visit the ' +\n",
              "          '<a target=\"_blank\" href=https://colab.research.google.com/notebooks/data_table.ipynb>data table notebook</a>'\n",
              "          + ' to learn more about interactive tables.';\n",
              "        element.innerHTML = '';\n",
              "        dataTable['output_type'] = 'display_data';\n",
              "        await google.colab.output.renderOutput(dataTable, element);\n",
              "        const docLink = document.createElement('div');\n",
              "        docLink.innerHTML = docLinkHtml;\n",
              "        element.appendChild(docLink);\n",
              "      }\n",
              "    </script>\n",
              "  </div>\n",
              "\n",
              "\n",
              "<div id=\"df-55086a31-f9c5-47b3-833d-d42d72546171\">\n",
              "  <button class=\"colab-df-quickchart\" onclick=\"quickchart('df-55086a31-f9c5-47b3-833d-d42d72546171')\"\n",
              "            title=\"Suggest charts\"\n",
              "            style=\"display:none;\">\n",
              "\n",
              "<svg xmlns=\"http://www.w3.org/2000/svg\" height=\"24px\"viewBox=\"0 0 24 24\"\n",
              "     width=\"24px\">\n",
              "    <g>\n",
              "        <path d=\"M19 3H5c-1.1 0-2 .9-2 2v14c0 1.1.9 2 2 2h14c1.1 0 2-.9 2-2V5c0-1.1-.9-2-2-2zM9 17H7v-7h2v7zm4 0h-2V7h2v10zm4 0h-2v-4h2v4z\"/>\n",
              "    </g>\n",
              "</svg>\n",
              "  </button>\n",
              "\n",
              "<style>\n",
              "  .colab-df-quickchart {\n",
              "      --bg-color: #E8F0FE;\n",
              "      --fill-color: #1967D2;\n",
              "      --hover-bg-color: #E2EBFA;\n",
              "      --hover-fill-color: #174EA6;\n",
              "      --disabled-fill-color: #AAA;\n",
              "      --disabled-bg-color: #DDD;\n",
              "  }\n",
              "\n",
              "  [theme=dark] .colab-df-quickchart {\n",
              "      --bg-color: #3B4455;\n",
              "      --fill-color: #D2E3FC;\n",
              "      --hover-bg-color: #434B5C;\n",
              "      --hover-fill-color: #FFFFFF;\n",
              "      --disabled-bg-color: #3B4455;\n",
              "      --disabled-fill-color: #666;\n",
              "  }\n",
              "\n",
              "  .colab-df-quickchart {\n",
              "    background-color: var(--bg-color);\n",
              "    border: none;\n",
              "    border-radius: 50%;\n",
              "    cursor: pointer;\n",
              "    display: none;\n",
              "    fill: var(--fill-color);\n",
              "    height: 32px;\n",
              "    padding: 0;\n",
              "    width: 32px;\n",
              "  }\n",
              "\n",
              "  .colab-df-quickchart:hover {\n",
              "    background-color: var(--hover-bg-color);\n",
              "    box-shadow: 0 1px 2px rgba(60, 64, 67, 0.3), 0 1px 3px 1px rgba(60, 64, 67, 0.15);\n",
              "    fill: var(--button-hover-fill-color);\n",
              "  }\n",
              "\n",
              "  .colab-df-quickchart-complete:disabled,\n",
              "  .colab-df-quickchart-complete:disabled:hover {\n",
              "    background-color: var(--disabled-bg-color);\n",
              "    fill: var(--disabled-fill-color);\n",
              "    box-shadow: none;\n",
              "  }\n",
              "\n",
              "  .colab-df-spinner {\n",
              "    border: 2px solid var(--fill-color);\n",
              "    border-color: transparent;\n",
              "    border-bottom-color: var(--fill-color);\n",
              "    animation:\n",
              "      spin 1s steps(1) infinite;\n",
              "  }\n",
              "\n",
              "  @keyframes spin {\n",
              "    0% {\n",
              "      border-color: transparent;\n",
              "      border-bottom-color: var(--fill-color);\n",
              "      border-left-color: var(--fill-color);\n",
              "    }\n",
              "    20% {\n",
              "      border-color: transparent;\n",
              "      border-left-color: var(--fill-color);\n",
              "      border-top-color: var(--fill-color);\n",
              "    }\n",
              "    30% {\n",
              "      border-color: transparent;\n",
              "      border-left-color: var(--fill-color);\n",
              "      border-top-color: var(--fill-color);\n",
              "      border-right-color: var(--fill-color);\n",
              "    }\n",
              "    40% {\n",
              "      border-color: transparent;\n",
              "      border-right-color: var(--fill-color);\n",
              "      border-top-color: var(--fill-color);\n",
              "    }\n",
              "    60% {\n",
              "      border-color: transparent;\n",
              "      border-right-color: var(--fill-color);\n",
              "    }\n",
              "    80% {\n",
              "      border-color: transparent;\n",
              "      border-right-color: var(--fill-color);\n",
              "      border-bottom-color: var(--fill-color);\n",
              "    }\n",
              "    90% {\n",
              "      border-color: transparent;\n",
              "      border-bottom-color: var(--fill-color);\n",
              "    }\n",
              "  }\n",
              "</style>\n",
              "\n",
              "  <script>\n",
              "    async function quickchart(key) {\n",
              "      const quickchartButtonEl =\n",
              "        document.querySelector('#' + key + ' button');\n",
              "      quickchartButtonEl.disabled = true;  // To prevent multiple clicks.\n",
              "      quickchartButtonEl.classList.add('colab-df-spinner');\n",
              "      try {\n",
              "        const charts = await google.colab.kernel.invokeFunction(\n",
              "            'suggestCharts', [key], {});\n",
              "      } catch (error) {\n",
              "        console.error('Error during call to suggestCharts:', error);\n",
              "      }\n",
              "      quickchartButtonEl.classList.remove('colab-df-spinner');\n",
              "      quickchartButtonEl.classList.add('colab-df-quickchart-complete');\n",
              "    }\n",
              "    (() => {\n",
              "      let quickchartButtonEl =\n",
              "        document.querySelector('#df-55086a31-f9c5-47b3-833d-d42d72546171 button');\n",
              "      quickchartButtonEl.style.display =\n",
              "        google.colab.kernel.accessAllowed ? 'block' : 'none';\n",
              "    })();\n",
              "  </script>\n",
              "</div>\n",
              "    </div>\n",
              "  </div>\n"
            ],
            "application/vnd.google.colaboratory.intrinsic+json": {
              "type": "dataframe",
              "variable_name": "df"
            }
          },
          "metadata": {},
          "execution_count": 90
        }
      ]
    },
    {
      "cell_type": "markdown",
      "source": [
        "# Exploratory Data Analysis"
      ],
      "metadata": {
        "id": "6tuX-4hE4k_K"
      }
    },
    {
      "cell_type": "markdown",
      "source": [
        "## Check Outlier"
      ],
      "metadata": {
        "id": "XN7iM5gFS2cv"
      }
    },
    {
      "cell_type": "code",
      "source": [
        "num_cols = df.select_dtypes(include=['int64','float64']).columns.tolist()\n",
        "\n",
        "# create boxplots for numerical columns\n",
        "for col in num_cols:\n",
        "    plt.figure()\n",
        "    sns.boxplot(data=df, x=col)\n",
        "    plt.title(col)"
      ],
      "metadata": {
        "id": "lfcOlYERS14_",
        "colab": {
          "base_uri": "https://localhost:8080/",
          "height": 1000
        },
        "outputId": "794dbc87-c25f-4155-bbec-986df6061ecd"
      },
      "execution_count": null,
      "outputs": [
        {
          "output_type": "display_data",
          "data": {
            "text/plain": [
              "<Figure size 640x480 with 1 Axes>"
            ],
            "image/png": "[encoded data removed]"
          },
          "metadata": {}
        },
        {
          "output_type": "display_data",
          "data": {
            "text/plain": [
              "<Figure size 640x480 with 1 Axes>"
            ],
            "image/png": "[encoded data removed]"
          },
          "metadata": {}
        },
        {
          "output_type": "display_data",
          "data": {
            "text/plain": [
              "<Figure size 640x480 with 1 Axes>"
            ],
            "image/png": "[encoded data removed]"
          },
          "metadata": {}
        },
        {
          "output_type": "display_data",
          "data": {
            "text/plain": [
              "<Figure size 640x480 with 1 Axes>"
            ],
            "image/png": "[encoded data removed]"
          },
          "metadata": {}
        },
        {
          "output_type": "display_data",
          "data": {
            "text/plain": [
              "<Figure size 640x480 with 1 Axes>"
            ],
            "image/png": "[encoded data removed]"
          },
          "metadata": {}
        },
        {
          "output_type": "display_data",
          "data": {
            "text/plain": [
              "<Figure size 640x480 with 1 Axes>"
            ],
            "image/png": "[encoded data removed]"
          },
          "metadata": {}
        },
        {
          "output_type": "display_data",
          "data": {
            "text/plain": [
              "<Figure size 640x480 with 1 Axes>"
            ],
            "image/png": "[encoded data removed]"
          },
          "metadata": {}
        },
        {
          "output_type": "display_data",
          "data": {
            "text/plain": [
              "<Figure size 640x480 with 1 Axes>"
            ],
            "image/png": "[encoded data removed]"
          },
          "metadata": {}
        },
        {
          "output_type": "display_data",
          "data": {
            "text/plain": [
              "<Figure size 640x480 with 1 Axes>"
            ],
            "image/png": "[encoded data removed]"
          },
          "metadata": {}
        },
        {
          "output_type": "display_data",
          "data": {
            "text/plain": [
              "<Figure size 640x480 with 1 Axes>"
            ],
            "image/png": "[encoded data removed]"
          },
          "metadata": {}
        },
        {
          "output_type": "display_data",
          "data": {
            "text/plain": [
              "<Figure size 640x480 with 1 Axes>"
            ],
            "image/png": "[encoded data removed]"
          },
          "metadata": {}
        },
        {
          "output_type": "display_data",
          "data": {
            "text/plain": [
              "<Figure size 640x480 with 1 Axes>"
            ],
            "image/png": "[encoded data removed]"
          },
          "metadata": {}
        }
      ]
    },
    {
      "cell_type": "code",
      "source": [
        "Q1 = df['airline'].quantile(0.25)\n",
        "Q3 = df['airline'].quantile(0.75)\n",
        "IQR = Q3 - Q1\n",
        "lower_bound = Q1 - 1.5 * IQR\n",
        "upper_bound = Q3 + 1.5 * IQR\n",
        "outliers = df[(df['airline'] < lower_bound) | (df['airline'] > upper_bound)]\n",
        "print(f\"Number of Outlier in airline Column : {len(outliers)}\")"
      ],
      "metadata": {
        "id": "OfzjN-25hcwK",
        "colab": {
          "base_uri": "https://localhost:8080/"
        },
        "outputId": "9adb2bd0-9687-4017-da54-041115f3e8ba"
      },
      "execution_count": null,
      "outputs": [
        {
          "output_type": "stream",
          "name": "stdout",
          "text": [
            "Number of Outlier in airline Column : 0\n"
          ]
        }
      ]
    },
    {
      "cell_type": "code",
      "source": [
        "df.describe()"
      ],
      "metadata": {
        "id": "-7jdYzbkSme5",
        "colab": {
          "base_uri": "https://localhost:8080/",
          "height": 332
        },
        "outputId": "e7974086-22e7-47a6-b162-b7b207432151"
      },
      "execution_count": null,
      "outputs": [
        {
          "output_type": "execute_result",
          "data": {
            "text/plain": [
              "          Unnamed: 0        airline         flight    source_city  \\\n",
              "count  300153.000000  300153.000000  300153.000000  300153.000000   \n",
              "mean   150076.000000       3.104873    1088.336618       2.577592   \n",
              "std     86646.852011       1.833265     426.694820       1.751762   \n",
              "min         0.000000       0.000000       0.000000       0.000000   \n",
              "25%     75038.000000       1.000000     783.000000       1.000000   \n",
              "50%    150076.000000       3.000000    1142.000000       2.000000   \n",
              "75%    225114.000000       5.000000    1486.000000       4.000000   \n",
              "max    300152.000000       5.000000    1560.000000       5.000000   \n",
              "\n",
              "       departure_time          stops   arrival_time  destination_city  \\\n",
              "count   300153.000000  300153.000000  300153.000000     300153.000000   \n",
              "mean         2.417337       0.924312       3.074086          2.588303   \n",
              "std          1.754276       0.398106       1.741666          1.744543   \n",
              "min          0.000000       0.000000       0.000000          0.000000   \n",
              "25%          1.000000       1.000000       2.000000          1.000000   \n",
              "50%          2.000000       1.000000       4.000000          3.000000   \n",
              "75%          4.000000       1.000000       5.000000          4.000000   \n",
              "max          5.000000       2.000000       5.000000          5.000000   \n",
              "\n",
              "               class       duration      days_left          price  \n",
              "count  300153.000000  300153.000000  300153.000000  300153.000000  \n",
              "mean        0.311464      12.221021      26.004751   20889.660523  \n",
              "std         0.463093       7.191997      13.561004   22697.767366  \n",
              "min         0.000000       0.830000       1.000000    1105.000000  \n",
              "25%         0.000000       6.830000      15.000000    4783.000000  \n",
              "50%         0.000000      11.250000      26.000000    7425.000000  \n",
              "75%         1.000000      16.170000      38.000000   42521.000000  \n",
              "max         1.000000      49.830000      49.000000  123071.000000  "
            ],
            "text/html": [
              "\n",
              "  <div id=\"df-4069ae6b-ae97-4caa-b281-b16152f0a77a\" class=\"colab-df-container\">\n",
              "    <div>\n",
              "<style scoped>\n",
              "    .dataframe tbody tr th:only-of-type {\n",
              "        vertical-align: middle;\n",
              "    }\n",
              "\n",
              "    .dataframe tbody tr th {\n",
              "        vertical-align: top;\n",
              "    }\n",
              "\n",
              "    .dataframe thead th {\n",
              "        text-align: right;\n",
              "    }\n",
              "</style>\n",
              "<table border=\"1\" class=\"dataframe\">\n",
              "  <thead>\n",
              "    <tr style=\"text-align: right;\">\n",
              "      <th></th>\n",
              "      <th>Unnamed: 0</th>\n",
              "      <th>airline</th>\n",
              "      <th>flight</th>\n",
              "      <th>source_city</th>\n",
              "      <th>departure_time</th>\n",
              "      <th>stops</th>\n",
              "      <th>arrival_time</th>\n",
              "      <th>destination_city</th>\n",
              "      <th>class</th>\n",
              "      <th>duration</th>\n",
              "      <th>days_left</th>\n",
              "      <th>price</th>\n",
              "    </tr>\n",
              "  </thead>\n",
              "  <tbody>\n",
              "    <tr>\n",
              "      <th>count</th>\n",
              "      <td>300153.000000</td>\n",
              "      <td>300153.000000</td>\n",
              "      <td>300153.000000</td>\n",
              "      <td>300153.000000</td>\n",
              "      <td>300153.000000</td>\n",
              "      <td>300153.000000</td>\n",
              "      <td>300153.000000</td>\n",
              "      <td>300153.000000</td>\n",
              "      <td>300153.000000</td>\n",
              "      <td>300153.000000</td>\n",
              "      <td>300153.000000</td>\n",
              "      <td>300153.000000</td>\n",
              "    </tr>\n",
              "    <tr>\n",
              "      <th>mean</th>\n",
              "      <td>150076.000000</td>\n",
              "      <td>3.104873</td>\n",
              "      <td>1088.336618</td>\n",
              "      <td>2.577592</td>\n",
              "      <td>2.417337</td>\n",
              "      <td>0.924312</td>\n",
              "      <td>3.074086</td>\n",
              "      <td>2.588303</td>\n",
              "      <td>0.311464</td>\n",
              "      <td>12.221021</td>\n",
              "      <td>26.004751</td>\n",
              "      <td>20889.660523</td>\n",
              "    </tr>\n",
              "    <tr>\n",
              "      <th>std</th>\n",
              "      <td>86646.852011</td>\n",
              "      <td>1.833265</td>\n",
              "      <td>426.694820</td>\n",
              "      <td>1.751762</td>\n",
              "      <td>1.754276</td>\n",
              "      <td>0.398106</td>\n",
              "      <td>1.741666</td>\n",
              "      <td>1.744543</td>\n",
              "      <td>0.463093</td>\n",
              "      <td>7.191997</td>\n",
              "      <td>13.561004</td>\n",
              "      <td>22697.767366</td>\n",
              "    </tr>\n",
              "    <tr>\n",
              "      <th>min</th>\n",
              "      <td>0.000000</td>\n",
              "      <td>0.000000</td>\n",
              "      <td>0.000000</td>\n",
              "      <td>0.000000</td>\n",
              "      <td>0.000000</td>\n",
              "      <td>0.000000</td>\n",
              "      <td>0.000000</td>\n",
              "      <td>0.000000</td>\n",
              "      <td>0.000000</td>\n",
              "      <td>0.830000</td>\n",
              "      <td>1.000000</td>\n",
              "      <td>1105.000000</td>\n",
              "    </tr>\n",
              "    <tr>\n",
              "      <th>25%</th>\n",
              "      <td>75038.000000</td>\n",
              "      <td>1.000000</td>\n",
              "      <td>783.000000</td>\n",
              "      <td>1.000000</td>\n",
              "      <td>1.000000</td>\n",
              "      <td>1.000000</td>\n",
              "      <td>2.000000</td>\n",
              "      <td>1.000000</td>\n",
              "      <td>0.000000</td>\n",
              "      <td>6.830000</td>\n",
              "      <td>15.000000</td>\n",
              "      <td>4783.000000</td>\n",
              "    </tr>\n",
              "    <tr>\n",
              "      <th>50%</th>\n",
              "      <td>150076.000000</td>\n",
              "      <td>3.000000</td>\n",
              "      <td>1142.000000</td>\n",
              "      <td>2.000000</td>\n",
              "      <td>2.000000</td>\n",
              "      <td>1.000000</td>\n",
              "      <td>4.000000</td>\n",
              "      <td>3.000000</td>\n",
              "      <td>0.000000</td>\n",
              "      <td>11.250000</td>\n",
              "      <td>26.000000</td>\n",
              "      <td>7425.000000</td>\n",
              "    </tr>\n",
              "    <tr>\n",
              "      <th>75%</th>\n",
              "      <td>225114.000000</td>\n",
              "      <td>5.000000</td>\n",
              "      <td>1486.000000</td>\n",
              "      <td>4.000000</td>\n",
              "      <td>4.000000</td>\n",
              "      <td>1.000000</td>\n",
              "      <td>5.000000</td>\n",
              "      <td>4.000000</td>\n",
              "      <td>1.000000</td>\n",
              "      <td>16.170000</td>\n",
              "      <td>38.000000</td>\n",
              "      <td>42521.000000</td>\n",
              "    </tr>\n",
              "    <tr>\n",
              "      <th>max</th>\n",
              "      <td>300152.000000</td>\n",
              "      <td>5.000000</td>\n",
              "      <td>1560.000000</td>\n",
              "      <td>5.000000</td>\n",
              "      <td>5.000000</td>\n",
              "      <td>2.000000</td>\n",
              "      <td>5.000000</td>\n",
              "      <td>5.000000</td>\n",
              "      <td>1.000000</td>\n",
              "      <td>49.830000</td>\n",
              "      <td>49.000000</td>\n",
              "      <td>123071.000000</td>\n",
              "    </tr>\n",
              "  </tbody>\n",
              "</table>\n",
              "</div>\n",
              "    <div class=\"colab-df-buttons\">\n",
              "\n",
              "  <div class=\"colab-df-container\">\n",
              "    <button class=\"colab-df-convert\" onclick=\"convertToInteractive('df-4069ae6b-ae97-4caa-b281-b16152f0a77a')\"\n",
              "            title=\"Convert this dataframe to an interactive table.\"\n",
              "            style=\"display:none;\">\n",
              "\n",
              "  <svg xmlns=\"http://www.w3.org/2000/svg\" height=\"24px\" viewBox=\"0 -960 960 960\">\n",
              "    <path d=\"M120-120v-720h720v720H120Zm60-500h600v-160H180v160Zm220 220h160v-160H400v160Zm0 220h160v-160H400v160ZM180-400h160v-160H180v160Zm440 0h160v-160H620v160ZM180-180h160v-160H180v160Zm440 0h160v-160H620v160Z\"/>\n",
              "  </svg>\n",
              "    </button>\n",
              "\n",
              "  <style>\n",
              "    .colab-df-container {\n",
              "      display:flex;\n",
              "      gap: 12px;\n",
              "    }\n",
              "\n",
              "    .colab-df-convert {\n",
              "      background-color: #E8F0FE;\n",
              "      border: none;\n",
              "      border-radius: 50%;\n",
              "      cursor: pointer;\n",
              "      display: none;\n",
              "      fill: #1967D2;\n",
              "      height: 32px;\n",
              "      padding: 0 0 0 0;\n",
              "      width: 32px;\n",
              "    }\n",
              "\n",
              "    .colab-df-convert:hover {\n",
              "      background-color: #E2EBFA;\n",
              "      box-shadow: 0px 1px 2px rgba(60, 64, 67, 0.3), 0px 1px 3px 1px rgba(60, 64, 67, 0.15);\n",
              "      fill: #174EA6;\n",
              "    }\n",
              "\n",
              "    .colab-df-buttons div {\n",
              "      margin-bottom: 4px;\n",
              "    }\n",
              "\n",
              "    [theme=dark] .colab-df-convert {\n",
              "      background-color: #3B4455;\n",
              "      fill: #D2E3FC;\n",
              "    }\n",
              "\n",
              "    [theme=dark] .colab-df-convert:hover {\n",
              "      background-color: #434B5C;\n",
              "      box-shadow: 0px 1px 3px 1px rgba(0, 0, 0, 0.15);\n",
              "      filter: drop-shadow(0px 1px 2px rgba(0, 0, 0, 0.3));\n",
              "      fill: #FFFFFF;\n",
              "    }\n",
              "  </style>\n",
              "\n",
              "    <script>\n",
              "      const buttonEl =\n",
              "        document.querySelector('#df-4069ae6b-ae97-4caa-b281-b16152f0a77a button.colab-df-convert');\n",
              "      buttonEl.style.display =\n",
              "        google.colab.kernel.accessAllowed ? 'block' : 'none';\n",
              "\n",
              "      async function convertToInteractive(key) {\n",
              "        const element = document.querySelector('#df-4069ae6b-ae97-4caa-b281-b16152f0a77a');\n",
              "        const dataTable =\n",
              "          await google.colab.kernel.invokeFunction('convertToInteractive',\n",
              "                                                    [key], {});\n",
              "        if (!dataTable) return;\n",
              "\n",
              "        const docLinkHtml = 'Like what you see? Visit the ' +\n",
              "          '<a target=\"_blank\" href=https://colab.research.google.com/notebooks/data_table.ipynb>data table notebook</a>'\n",
              "          + ' to learn more about interactive tables.';\n",
              "        element.innerHTML = '';\n",
              "        dataTable['output_type'] = 'display_data';\n",
              "        await google.colab.output.renderOutput(dataTable, element);\n",
              "        const docLink = document.createElement('div');\n",
              "        docLink.innerHTML = docLinkHtml;\n",
              "        element.appendChild(docLink);\n",
              "      }\n",
              "    </script>\n",
              "  </div>\n",
              "\n",
              "\n",
              "<div id=\"df-f2510ed9-d04c-4d80-a14d-6b5383103683\">\n",
              "  <button class=\"colab-df-quickchart\" onclick=\"quickchart('df-f2510ed9-d04c-4d80-a14d-6b5383103683')\"\n",
              "            title=\"Suggest charts\"\n",
              "            style=\"display:none;\">\n",
              "\n",
              "<svg xmlns=\"http://www.w3.org/2000/svg\" height=\"24px\"viewBox=\"0 0 24 24\"\n",
              "     width=\"24px\">\n",
              "    <g>\n",
              "        <path d=\"M19 3H5c-1.1 0-2 .9-2 2v14c0 1.1.9 2 2 2h14c1.1 0 2-.9 2-2V5c0-1.1-.9-2-2-2zM9 17H7v-7h2v7zm4 0h-2V7h2v10zm4 0h-2v-4h2v4z\"/>\n",
              "    </g>\n",
              "</svg>\n",
              "  </button>\n",
              "\n",
              "<style>\n",
              "  .colab-df-quickchart {\n",
              "      --bg-color: #E8F0FE;\n",
              "      --fill-color: #1967D2;\n",
              "      --hover-bg-color: #E2EBFA;\n",
              "      --hover-fill-color: #174EA6;\n",
              "      --disabled-fill-color: #AAA;\n",
              "      --disabled-bg-color: #DDD;\n",
              "  }\n",
              "\n",
              "  [theme=dark] .colab-df-quickchart {\n",
              "      --bg-color: #3B4455;\n",
              "      --fill-color: #D2E3FC;\n",
              "      --hover-bg-color: #434B5C;\n",
              "      --hover-fill-color: #FFFFFF;\n",
              "      --disabled-bg-color: #3B4455;\n",
              "      --disabled-fill-color: #666;\n",
              "  }\n",
              "\n",
              "  .colab-df-quickchart {\n",
              "    background-color: var(--bg-color);\n",
              "    border: none;\n",
              "    border-radius: 50%;\n",
              "    cursor: pointer;\n",
              "    display: none;\n",
              "    fill: var(--fill-color);\n",
              "    height: 32px;\n",
              "    padding: 0;\n",
              "    width: 32px;\n",
              "  }\n",
              "\n",
              "  .colab-df-quickchart:hover {\n",
              "    background-color: var(--hover-bg-color);\n",
              "    box-shadow: 0 1px 2px rgba(60, 64, 67, 0.3), 0 1px 3px 1px rgba(60, 64, 67, 0.15);\n",
              "    fill: var(--button-hover-fill-color);\n",
              "  }\n",
              "\n",
              "  .colab-df-quickchart-complete:disabled,\n",
              "  .colab-df-quickchart-complete:disabled:hover {\n",
              "    background-color: var(--disabled-bg-color);\n",
              "    fill: var(--disabled-fill-color);\n",
              "    box-shadow: none;\n",
              "  }\n",
              "\n",
              "  .colab-df-spinner {\n",
              "    border: 2px solid var(--fill-color);\n",
              "    border-color: transparent;\n",
              "    border-bottom-color: var(--fill-color);\n",
              "    animation:\n",
              "      spin 1s steps(1) infinite;\n",
              "  }\n",
              "\n",
              "  @keyframes spin {\n",
              "    0% {\n",
              "      border-color: transparent;\n",
              "      border-bottom-color: var(--fill-color);\n",
              "      border-left-color: var(--fill-color);\n",
              "    }\n",
              "    20% {\n",
              "      border-color: transparent;\n",
              "      border-left-color: var(--fill-color);\n",
              "      border-top-color: var(--fill-color);\n",
              "    }\n",
              "    30% {\n",
              "      border-color: transparent;\n",
              "      border-left-color: var(--fill-color);\n",
              "      border-top-color: var(--fill-color);\n",
              "      border-right-color: var(--fill-color);\n",
              "    }\n",
              "    40% {\n",
              "      border-color: transparent;\n",
              "      border-right-color: var(--fill-color);\n",
              "      border-top-color: var(--fill-color);\n",
              "    }\n",
              "    60% {\n",
              "      border-color: transparent;\n",
              "      border-right-color: var(--fill-color);\n",
              "    }\n",
              "    80% {\n",
              "      border-color: transparent;\n",
              "      border-right-color: var(--fill-color);\n",
              "      border-bottom-color: var(--fill-color);\n",
              "    }\n",
              "    90% {\n",
              "      border-color: transparent;\n",
              "      border-bottom-color: var(--fill-color);\n",
              "    }\n",
              "  }\n",
              "</style>\n",
              "\n",
              "  <script>\n",
              "    async function quickchart(key) {\n",
              "      const quickchartButtonEl =\n",
              "        document.querySelector('#' + key + ' button');\n",
              "      quickchartButtonEl.disabled = true;  // To prevent multiple clicks.\n",
              "      quickchartButtonEl.classList.add('colab-df-spinner');\n",
              "      try {\n",
              "        const charts = await google.colab.kernel.invokeFunction(\n",
              "            'suggestCharts', [key], {});\n",
              "      } catch (error) {\n",
              "        console.error('Error during call to suggestCharts:', error);\n",
              "      }\n",
              "      quickchartButtonEl.classList.remove('colab-df-spinner');\n",
              "      quickchartButtonEl.classList.add('colab-df-quickchart-complete');\n",
              "    }\n",
              "    (() => {\n",
              "      let quickchartButtonEl =\n",
              "        document.querySelector('#df-f2510ed9-d04c-4d80-a14d-6b5383103683 button');\n",
              "      quickchartButtonEl.style.display =\n",
              "        google.colab.kernel.accessAllowed ? 'block' : 'none';\n",
              "    })();\n",
              "  </script>\n",
              "</div>\n",
              "    </div>\n",
              "  </div>\n"
            ],
            "application/vnd.google.colaboratory.intrinsic+json": {
              "type": "dataframe",
              "summary": "{\n  \"name\": \"df\",\n  \"rows\": 8,\n  \"fields\": [\n    {\n      \"column\": \"Unnamed: 0\",\n      \"properties\": {\n        \"dtype\": \"number\",\n        \"std\": 108176.37443497643,\n        \"min\": 0.0,\n        \"max\": 300153.0,\n        \"num_unique_values\": 7,\n        \"samples\": [\n          300153.0,\n          150076.0,\n          225114.0\n        ],\n        \"semantic_type\": \"\",\n        \"description\": \"\"\n      }\n    },\n    {\n      \"column\": \"airline\",\n      \"properties\": {\n        \"dtype\": \"number\",\n        \"std\": 106119.15434097913,\n        \"min\": 0.0,\n        \"max\": 300153.0,\n        \"num_unique_values\": 7,\n        \"samples\": [\n          300153.0,\n          3.104873181344181,\n          3.0\n        ],\n        \"semantic_type\": \"\",\n        \"description\": \"\"\n      }\n    },\n    {\n      \"column\": \"flight\",\n      \"properties\": {\n        \"dtype\": \"number\",\n        \"std\": 105793.81027860579,\n        \"min\": 0.0,\n        \"max\": 300153.0,\n        \"num_unique_values\": 8,\n        \"samples\": [\n          1088.3366183246544,\n          1142.0,\n          300153.0\n        ],\n        \"semantic_type\": \"\",\n        \"description\": \"\"\n      }\n    },\n    {\n      \"column\": \"source_city\",\n      \"properties\": {\n        \"dtype\": \"number\",\n        \"std\": 106119.28610168787,\n        \"min\": 0.0,\n        \"max\": 300153.0,\n        \"num_unique_values\": 8,\n        \"samples\": [\n          2.5775920946983706,\n          2.0,\n          300153.0\n        ],\n        \"semantic_type\": \"\",\n        \"description\": \"\"\n      }\n    },\n    {\n      \"column\": \"departure_time\",\n      \"properties\": {\n        \"dtype\": \"number\",\n        \"std\": 106119.29406874452,\n        \"min\": 0.0,\n        \"max\": 300153.0,\n        \"num_unique_values\": 8,\n        \"samples\": [\n          2.4173371580493948,\n          2.0,\n          300153.0\n        ],\n        \"semantic_type\": \"\",\n        \"description\": \"\"\n      }\n    },\n    {\n      \"column\": \"stops\",\n      \"properties\": {\n        \"dtype\": \"number\",\n        \"std\": 106119.79151798302,\n        \"min\": 0.0,\n        \"max\": 300153.0,\n        \"num_unique_values\": 6,\n        \"samples\": [\n          300153.0,\n          0.9243119342468674,\n          2.0\n        ],\n        \"semantic_type\": \"\",\n        \"description\": \"\"\n      }\n    },\n    {\n      \"column\": \"arrival_time\",\n      \"properties\": {\n        \"dtype\": \"number\",\n        \"std\": 106119.05950636152,\n        \"min\": 0.0,\n        \"max\": 300153.0,\n        \"num_unique_values\": 7,\n        \"samples\": [\n          300153.0,\n          3.0740855497029846,\n          4.0\n        ],\n        \"semantic_type\": \"\",\n        \"description\": \"\"\n      }\n    },\n    {\n      \"column\": \"destination_city\",\n      \"properties\": {\n        \"dtype\": \"number\",\n        \"std\": 106119.23541779463,\n        \"min\": 0.0,\n        \"max\": 300153.0,\n        \"num_unique_values\": 8,\n        \"samples\": [\n          2.5883032986510215,\n          3.0,\n          300153.0\n        ],\n        \"semantic_type\": \"\",\n        \"description\": \"\"\n      }\n    },\n    {\n      \"column\": \"class\",\n      \"properties\": {\n        \"dtype\": \"number\",\n        \"std\": 106119.97071124607,\n        \"min\": 0.0,\n        \"max\": 300153.0,\n        \"num_unique_values\": 5,\n        \"samples\": [\n          0.31146448644524627,\n          1.0,\n          0.46309294381852345\n        ],\n        \"semantic_type\": \"\",\n        \"description\": \"\"\n      }\n    },\n    {\n      \"column\": \"duration\",\n      \"properties\": {\n        \"dtype\": \"number\",\n        \"std\": 106114.84279188851,\n        \"min\": 0.83,\n        \"max\": 300153.0,\n        \"num_unique_values\": 8,\n        \"samples\": [\n          12.221020812718846,\n          11.25,\n          300153.0\n        ],\n        \"semantic_type\": \"\",\n        \"description\": \"\"\n      }\n    },\n    {\n      \"column\": \"days_left\",\n      \"properties\": {\n        \"dtype\": \"number\",\n        \"std\": 106111.5980324396,\n        \"min\": 1.0,\n        \"max\": 300153.0,\n        \"num_unique_values\": 8,\n        \"samples\": [\n          26.004750910369044,\n          26.0,\n          300153.0\n        ],\n        \"semantic_type\": \"\",\n        \"description\": \"\"\n      }\n    },\n    {\n      \"column\": \"price\",\n      \"properties\": {\n        \"dtype\": \"number\",\n        \"std\": 102770.44098272725,\n        \"min\": 1105.0,\n        \"max\": 300153.0,\n        \"num_unique_values\": 8,\n        \"samples\": [\n          20889.660523133203,\n          7425.0,\n          300153.0\n        ],\n        \"semantic_type\": \"\",\n        \"description\": \"\"\n      }\n    }\n  ]\n}"
            }
          },
          "metadata": {},
          "execution_count": 93
        }
      ]
    },
    {
      "cell_type": "code",
      "source": [
        "selected_columns = ['airline', 'flight', 'source_city', 'departure_time', 'stops', 'arrival_time', 'destination_city', 'class', 'duration', 'days_left', 'price']\n",
        "\n",
        "# Deskripsikan kolom yang dipilih\n",
        "description = df[selected_columns].describe()\n",
        "\n",
        "print(description)"
      ],
      "metadata": {
        "colab": {
          "base_uri": "https://localhost:8080/"
        },
        "id": "CUhRviwn7DJU",
        "outputId": "501b5b8f-dd02-4f3d-e525-9da9e6f9ebad"
      },
      "execution_count": null,
      "outputs": [
        {
          "output_type": "stream",
          "name": "stdout",
          "text": [
            "             airline         flight    source_city  departure_time  \\\n",
            "count  300153.000000  300153.000000  300153.000000   300153.000000   \n",
            "mean        3.104873    1088.336618       2.577592        2.417337   \n",
            "std         1.833265     426.694820       1.751762        1.754276   \n",
            "min         0.000000       0.000000       0.000000        0.000000   \n",
            "25%         1.000000     783.000000       1.000000        1.000000   \n",
            "50%         3.000000    1142.000000       2.000000        2.000000   \n",
            "75%         5.000000    1486.000000       4.000000        4.000000   \n",
            "max         5.000000    1560.000000       5.000000        5.000000   \n",
            "\n",
            "               stops   arrival_time  destination_city          class  \\\n",
            "count  300153.000000  300153.000000     300153.000000  300153.000000   \n",
            "mean        0.924312       3.074086          2.588303       0.311464   \n",
            "std         0.398106       1.741666          1.744543       0.463093   \n",
            "min         0.000000       0.000000          0.000000       0.000000   \n",
            "25%         1.000000       2.000000          1.000000       0.000000   \n",
            "50%         1.000000       4.000000          3.000000       0.000000   \n",
            "75%         1.000000       5.000000          4.000000       1.000000   \n",
            "max         2.000000       5.000000          5.000000       1.000000   \n",
            "\n",
            "            duration      days_left          price  \n",
            "count  300153.000000  300153.000000  300153.000000  \n",
            "mean       12.221021      26.004751   20889.660523  \n",
            "std         7.191997      13.561004   22697.767366  \n",
            "min         0.830000       1.000000    1105.000000  \n",
            "25%         6.830000      15.000000    4783.000000  \n",
            "50%        11.250000      26.000000    7425.000000  \n",
            "75%        16.170000      38.000000   42521.000000  \n",
            "max        49.830000      49.000000  123071.000000  \n"
          ]
        }
      ]
    },
    {
      "cell_type": "markdown",
      "source": [
        "## Person Corelation\n"
      ],
      "metadata": {
        "id": "tyXf-CJEgz-M"
      }
    },
    {
      "cell_type": "code",
      "source": [
        "f,ax=plt.subplots(figsize=(12,12))\n",
        "plt.title(\"PERSON CORRELATION\")\n",
        "sns.heatmap(\n",
        "    df.astype(float).corr(),\n",
        "    linewidth=0.25,\n",
        "    vmax=1.0,\n",
        "    square=True,\n",
        "    cmap='magma',\n",
        "    linecolor='black',\n",
        "    annot=True\n",
        "    )"
      ],
      "metadata": {
        "id": "CRdFuOQ9jf0t",
        "colab": {
          "base_uri": "https://localhost:8080/",
          "height": 838
        },
        "outputId": "da50132f-4d53-4945-d712-4d36e4b3bd36"
      },
      "execution_count": null,
      "outputs": [
        {
          "output_type": "execute_result",
          "data": {
            "text/plain": [
              "<Axes: title={'center': 'PERSON CORRELATION'}>"
            ]
          },
          "metadata": {},
          "execution_count": 94
        },
        {
          "output_type": "display_data",
          "data": {
            "text/plain": [
              "<Figure size 1200x1200 with 2 Axes>"
            ],
            "image/png": "[encoded data removed]"
          },
          "metadata": {}
        }
      ]
    },
    {
      "cell_type": "markdown",
      "source": [
        "Berdasarkan hasil matriks korelasi, variabel yang sangat berpengaruh terhadap variabel target (price) untuk prediksi tiket penerbangan adalah variabel class. Nilai korelasi antara variabel class dan price adalah 0.94, yang mendekati nilai 1. Dengan kata lain, semakin tinggi nilai variabel class, semakin tinggi juga harga tiket penerbangan."
      ],
      "metadata": {
        "id": "1H2fmPf6-rov"
      }
    },
    {
      "cell_type": "markdown",
      "source": [
        "# Modeling"
      ],
      "metadata": {
        "id": "qwV702ImioJY"
      }
    },
    {
      "cell_type": "code",
      "source": [
        "X = df.drop(columns=['price'])\n",
        "Y = df['price']"
      ],
      "metadata": {
        "id": "ZcWlKIJGsMVW"
      },
      "execution_count": null,
      "outputs": []
    },
    {
      "cell_type": "markdown",
      "source": [
        "## Normalization With Standard Scaler\n"
      ],
      "metadata": {
        "id": "FfDj3oC6DU66"
      }
    },
    {
      "cell_type": "code",
      "source": [
        "StdSc = StandardScaler()\n",
        "X = StdSc.fit_transform(df)"
      ],
      "metadata": {
        "id": "-EeHzVHRlCRo"
      },
      "execution_count": null,
      "outputs": []
    },
    {
      "cell_type": "markdown",
      "source": [
        "## Train And Test"
      ],
      "metadata": {
        "id": "2jhGr4uU0Oix"
      }
    },
    {
      "cell_type": "code",
      "source": [
        "# Membagi data menjadi training dan testing\n",
        "X_train, X_test, y_train, y_test = train_test_split(X,Y, test_size=0.2, random_state=42)"
      ],
      "metadata": {
        "id": "G3jvHJpysASF"
      },
      "execution_count": null,
      "outputs": []
    },
    {
      "cell_type": "markdown",
      "source": [
        "##Machine Learning"
      ],
      "metadata": {
        "id": "9CnpdyZ8gE5W"
      }
    },
    {
      "cell_type": "markdown",
      "source": [
        "### Linear Regression"
      ],
      "metadata": {
        "id": "qUqrrSw9sPJd"
      }
    },
    {
      "cell_type": "code",
      "source": [
        "from sklearn.linear_model import LinearRegression\n",
        "model = LinearRegression()\n",
        "model_lr = model.fit(X_train, y_train)\n",
        "y_pred_lr = model_lr.predict(X_test)\n",
        "\n",
        "r2_s = r2_score(y_test, y_pred_lr)\n",
        "print('R2 Score:', r2_s)\n",
        "\n",
        "mae = mean_absolute_error(y_test, y_pred_lr)\n",
        "print('MAE:', mae)\n",
        "\n",
        "mse = mean_squared_error(y_test, y_pred_lr)\n",
        "print('MSE:', mse)\n",
        "\n",
        "rmse = np.sqrt(mse)\n",
        "print('RMSE:', rmse)\n",
        "\n",
        "# Menghitung AIC dan BIC\n",
        "n = len(y_test)\n",
        "p = X_train.shape[1] + 1\n",
        "\n",
        "rss = np.sum((y_test - y_pred_lr) ** 2)\n",
        "aic = n * np.log(rss/n) + 2 * p\n",
        "bic = n * np.log(rss/n) + np.log(n) * p\n",
        "\n",
        "print('AIC:', aic)\n",
        "print('BIC:', bic)\n",
        "\n",
        "print(\"=\"*76)\n",
        "\n",
        "plt.scatter(y_test, y_pred_lr)\n",
        "plt.plot(np.arange(0,120000), np.arange(0,120000), color = 'red')\n",
        "plt.grid(True)"
      ],
      "metadata": {
        "id": "D-fystehr5q6",
        "colab": {
          "base_uri": "https://localhost:8080/",
          "height": 559
        },
        "outputId": "ce2755bd-d431-43de-a434-34f4b4c08d66"
      },
      "execution_count": null,
      "outputs": [
        {
          "output_type": "stream",
          "name": "stdout",
          "text": [
            "R2 Score: 1.0\n",
            "MAE: 2.4606732085437902e-11\n",
            "MSE: 8.485735196453297e-22\n",
            "RMSE: 2.913028526543003e-11\n",
            "AIC: -2912587.203310449\n",
            "BIC: -2912470.1692975815\n",
            "============================================================================\n"
          ]
        },
        {
          "output_type": "display_data",
          "data": {
            "text/plain": [
              "<Figure size 640x480 with 1 Axes>"
            ],
            "image/png": "[encoded data removed]"
          },
          "metadata": {}
        }
      ]
    },
    {
      "cell_type": "markdown",
      "source": [
        "### Random Forest Regressor\n"
      ],
      "metadata": {
        "id": "fFe9-jrssTfC"
      }
    },
    {
      "cell_type": "code",
      "source": [
        "from sklearn.ensemble import RandomForestRegressor\n",
        "model = RandomForestRegressor()\n",
        "model_rf = model.fit(X_train, y_train)\n",
        "y_pred_rf = model_rf.predict(X_test)\n",
        "\n",
        "# Evaluasi model\n",
        "\n",
        "r2_s = r2_score(y_test, y_pred_rf)\n",
        "print('R2 Score:', r2_s)\n",
        "\n",
        "mae = mean_absolute_error(y_test, y_pred_rf)\n",
        "print('MAE:', mae)\n",
        "\n",
        "mse = mean_squared_error(y_test, y_pred_rf)\n",
        "print('MSE:', mse)\n",
        "\n",
        "rmse = np.sqrt(mse)\n",
        "print('RMSE:', rmse)\n",
        "\n",
        "n = len(y_test)\n",
        "p = len(model_rf.feature_importances_)\n",
        "\n",
        "rss = np.sum((y_test - y_pred_rf) ** 2)\n",
        "aic = n * np.log(rss/n) + 2 * p\n",
        "bic = n * np.log(rss/n) + np.log(n) * p\n",
        "\n",
        "print('AIC:', aic)\n",
        "print('BIC:', bic)\n",
        "\n",
        "print(\"=\"*76)\n",
        "\n",
        "plt.scatter(y_test, y_pred_rf)\n",
        "plt.plot(np.arange(0,120000), np.arange(0,120000), color = 'red')\n",
        "plt.grid(True)"
      ],
      "metadata": {
        "id": "VWcXhADkiqzq",
        "colab": {
          "base_uri": "https://localhost:8080/",
          "height": 559
        },
        "outputId": "1cfc73a8-9ad7-4011-a47e-89814072c4b2"
      },
      "execution_count": null,
      "outputs": [
        {
          "output_type": "stream",
          "name": "stdout",
          "text": [
            "R2 Score: 0.9999996077659138\n",
            "MAE: 0.34615282104247225\n",
            "MSE: 202.18971850877062\n",
            "RMSE: 14.21934311101503\n",
            "AIC: 318740.9728301807\n",
            "BIC: 318849.00422667403\n",
            "============================================================================\n"
          ]
        },
        {
          "output_type": "display_data",
          "data": {
            "text/plain": [
              "<Figure size 640x480 with 1 Axes>"
            ],
            "image/png": "[encoded data removed]"
          },
          "metadata": {}
        }
      ]
    },
    {
      "cell_type": "markdown",
      "source": [
        "### Decision Tree Regressor"
      ],
      "metadata": {
        "id": "k0EFWmusuRZg"
      }
    },
    {
      "cell_type": "code",
      "source": [
        "from sklearn.tree import DecisionTreeRegressor\n",
        "model = DecisionTreeRegressor()\n",
        "model_dtr = model.fit(X_train, y_train)\n",
        "y_pred_dtr = model_dtr.predict(X_test)\n",
        "\n",
        "r2_s = r2_score(y_test, y_pred_dtr)\n",
        "print('R2 Score:', r2_s)\n",
        "\n",
        "mae = mean_absolute_error(y_test, y_pred_dtr)\n",
        "print('MAE:', mae)\n",
        "\n",
        "mse = mean_squared_error(y_test, y_pred_dtr)\n",
        "print('MSE:', mse)\n",
        "\n",
        "rmse = np.sqrt(mse)\n",
        "print('RMSE:', rmse)\n",
        "\n",
        "# Menghitung AIC dan BIC\n",
        "n = len(y_test)\n",
        "p = model_dtr.tree_.node_count\n",
        "\n",
        "rss = np.sum((y_test - y_pred_dtr) ** 2)\n",
        "bic = n * np.log(rss/n) + np.log(n) * p\n",
        "\n",
        "print('AIC:', aic)\n",
        "print('BIC:', bic)\n",
        "\n",
        "print(\"=\"*76)\n",
        "\n",
        "plt.scatter(y_test, y_pred_dtr)\n",
        "plt.plot(np.arange(0,120000), np.arange(0,120000), color = 'red')\n",
        "plt.grid(True)"
      ],
      "metadata": {
        "id": "0lHGdIa3uQwJ",
        "colab": {
          "base_uri": "https://localhost:8080/",
          "height": 559
        },
        "outputId": "9959aba7-e06f-4376-c1de-365c228c5d63"
      },
      "execution_count": null,
      "outputs": [
        {
          "output_type": "stream",
          "name": "stdout",
          "text": [
            "R2 Score: 0.9999934122742296\n",
            "MAE: 0.6767336875947427\n",
            "MSE: 3395.8558578068\n",
            "RMSE: 58.27397238739436\n",
            "AIC: 318740.9728301807\n",
            "BIC: 739777.5605522944\n",
            "============================================================================\n"
          ]
        },
        {
          "output_type": "display_data",
          "data": {
            "text/plain": [
              "<Figure size 640x480 with 1 Axes>"
            ],
            "image/png": "[encoded data removed]"
          },
          "metadata": {}
        }
      ]
    },
    {
      "cell_type": "markdown",
      "source": [
        "##Deep Learning"
      ],
      "metadata": {
        "id": "mX6WHTprjF1O"
      }
    },
    {
      "cell_type": "markdown",
      "source": [
        "###Artificial Neural Network"
      ],
      "metadata": {
        "id": "1v_iMrF6jjBl"
      }
    },
    {
      "cell_type": "code",
      "source": [
        "network = models.Sequential()\n",
        "network.add(layers.Dense(32, activation='relu', input_shape=(12,)))\n",
        "network.add(layers.Dense(64, activation='relu'))\n",
        "network.add(layers.Dense(1))"
      ],
      "metadata": {
        "id": "ky7M9we-jgdH"
      },
      "execution_count": null,
      "outputs": []
    },
    {
      "cell_type": "code",
      "source": [
        "#Evaluate model\n",
        "network.compile(loss='mse', optimizer='nadam', metrics=['mae'])"
      ],
      "metadata": {
        "id": "FoMNaomOkF6g"
      },
      "execution_count": null,
      "outputs": []
    },
    {
      "cell_type": "code",
      "source": [
        "exc = network.fit(X_train, y_train, epochs=50, batch_size=32,  verbose=1, validation_split=0.3)"
      ],
      "metadata": {
        "id": "GoWM2IcvkRTK",
        "colab": {
          "base_uri": "https://localhost:8080/"
        },
        "outputId": "dc344637-cb5e-4139-a6b6-6d6874ec0903"
      },
      "execution_count": null,
      "outputs": [
        {
          "output_type": "stream",
          "name": "stdout",
          "text": [
            "Epoch 1/50\n",
            "5253/5253 [==============================] - 16s 3ms/step - loss: 161354048.0000 - mae: 6434.1665 - val_loss: 8034970.0000 - val_mae: 2101.3501\n",
            "Epoch 2/50\n",
            "5253/5253 [==============================] - 15s 3ms/step - loss: 2982287.7500 - mae: 1237.7334 - val_loss: 912989.6250 - val_mae: 704.4854\n",
            "Epoch 3/50\n",
            "5253/5253 [==============================] - 16s 3ms/step - loss: 314633.6562 - mae: 378.6177 - val_loss: 25988.2480 - val_mae: 122.9358\n",
            "Epoch 4/50\n",
            "5253/5253 [==============================] - 15s 3ms/step - loss: 6386.9453 - mae: 49.9486 - val_loss: 533.0351 - val_mae: 16.0225\n",
            "Epoch 5/50\n",
            "5253/5253 [==============================] - 15s 3ms/step - loss: 233.9945 - mae: 10.8402 - val_loss: 96.4236 - val_mae: 7.6602\n",
            "Epoch 6/50\n",
            "5253/5253 [==============================] - 15s 3ms/step - loss: 77.7312 - mae: 6.5292 - val_loss: 77.3402 - val_mae: 6.9237\n",
            "Epoch 7/50\n",
            "5253/5253 [==============================] - 15s 3ms/step - loss: 48.5255 - mae: 4.9562 - val_loss: 82.8997 - val_mae: 7.2000\n",
            "Epoch 8/50\n",
            "5253/5253 [==============================] - 15s 3ms/step - loss: 36.9823 - mae: 3.9350 - val_loss: 18.9254 - val_mae: 3.4482\n",
            "Epoch 9/50\n",
            "5253/5253 [==============================] - 15s 3ms/step - loss: 31.4792 - mae: 3.1727 - val_loss: 8.3629 - val_mae: 2.2228\n",
            "Epoch 10/50\n",
            "5253/5253 [==============================] - 17s 3ms/step - loss: 29.9102 - mae: 2.9321 - val_loss: 9.0181 - val_mae: 2.2145\n",
            "Epoch 11/50\n",
            "5253/5253 [==============================] - 16s 3ms/step - loss: 26.2205 - mae: 2.5844 - val_loss: 6.8502 - val_mae: 2.0663\n",
            "Epoch 12/50\n",
            "5253/5253 [==============================] - 16s 3ms/step - loss: 25.8764 - mae: 2.4756 - val_loss: 3.7666 - val_mae: 1.4216\n",
            "Epoch 13/50\n",
            "5253/5253 [==============================] - 17s 3ms/step - loss: 27.2146 - mae: 2.2177 - val_loss: 2.0203 - val_mae: 0.9855\n",
            "Epoch 14/50\n",
            "5253/5253 [==============================] - 15s 3ms/step - loss: 24.9679 - mae: 2.1541 - val_loss: 5.6164 - val_mae: 1.7878\n",
            "Epoch 15/50\n",
            "5253/5253 [==============================] - 17s 3ms/step - loss: 25.4986 - mae: 2.4120 - val_loss: 4.9898 - val_mae: 1.7228\n",
            "Epoch 16/50\n",
            "5253/5253 [==============================] - 18s 3ms/step - loss: 28.5816 - mae: 2.0279 - val_loss: 5.6527 - val_mae: 1.7709\n",
            "Epoch 17/50\n",
            "5253/5253 [==============================] - 15s 3ms/step - loss: 24.2037 - mae: 2.1395 - val_loss: 8.4125 - val_mae: 2.2710\n",
            "Epoch 18/50\n",
            "5253/5253 [==============================] - 15s 3ms/step - loss: 24.0389 - mae: 2.1388 - val_loss: 10.8513 - val_mae: 2.6262\n",
            "Epoch 19/50\n",
            "5253/5253 [==============================] - 15s 3ms/step - loss: 28.7255 - mae: 1.8899 - val_loss: 1.0495 - val_mae: 0.7231\n",
            "Epoch 20/50\n",
            "5253/5253 [==============================] - 17s 3ms/step - loss: 25.8084 - mae: 1.9507 - val_loss: 1.3112 - val_mae: 0.8333\n",
            "Epoch 21/50\n",
            "5253/5253 [==============================] - 15s 3ms/step - loss: 24.2332 - mae: 1.8440 - val_loss: 0.9506 - val_mae: 0.6744\n",
            "Epoch 22/50\n",
            "5253/5253 [==============================] - 15s 3ms/step - loss: 22.6202 - mae: 1.9006 - val_loss: 317.7029 - val_mae: 13.8630\n",
            "Epoch 23/50\n",
            "5253/5253 [==============================] - 15s 3ms/step - loss: 25.4437 - mae: 1.9693 - val_loss: 31.1196 - val_mae: 4.5215\n",
            "Epoch 24/50\n",
            "5253/5253 [==============================] - 15s 3ms/step - loss: 24.7900 - mae: 1.9349 - val_loss: 1.5412 - val_mae: 0.9336\n",
            "Epoch 25/50\n",
            "5253/5253 [==============================] - 15s 3ms/step - loss: 26.5116 - mae: 1.7398 - val_loss: 0.3833 - val_mae: 0.3289\n",
            "Epoch 26/50\n",
            "5253/5253 [==============================] - 17s 3ms/step - loss: 24.5506 - mae: 1.7382 - val_loss: 0.4043 - val_mae: 0.4496\n",
            "Epoch 27/50\n",
            "5253/5253 [==============================] - 18s 3ms/step - loss: 25.0059 - mae: 1.6484 - val_loss: 0.9320 - val_mae: 0.6848\n",
            "Epoch 28/50\n",
            "5253/5253 [==============================] - 16s 3ms/step - loss: 23.1651 - mae: 1.7181 - val_loss: 1.8045 - val_mae: 1.0368\n",
            "Epoch 29/50\n",
            "5253/5253 [==============================] - 15s 3ms/step - loss: 25.8175 - mae: 1.5635 - val_loss: 6.7311 - val_mae: 1.9488\n",
            "Epoch 30/50\n",
            "5253/5253 [==============================] - 15s 3ms/step - loss: 24.8147 - mae: 1.6921 - val_loss: 348.5535 - val_mae: 13.2541\n",
            "Epoch 31/50\n",
            "5253/5253 [==============================] - 15s 3ms/step - loss: 26.3394 - mae: 1.5515 - val_loss: 1.9772 - val_mae: 1.0547\n",
            "Epoch 32/50\n",
            "5253/5253 [==============================] - 15s 3ms/step - loss: 23.1391 - mae: 1.9864 - val_loss: 4.2752 - val_mae: 1.5145\n",
            "Epoch 33/50\n",
            "5253/5253 [==============================] - 17s 3ms/step - loss: 28.8690 - mae: 1.6787 - val_loss: 0.2582 - val_mae: 0.3695\n",
            "Epoch 34/50\n",
            "5253/5253 [==============================] - 18s 3ms/step - loss: 22.8600 - mae: 1.5014 - val_loss: 0.1808 - val_mae: 0.2883\n",
            "Epoch 35/50\n",
            "5253/5253 [==============================] - 15s 3ms/step - loss: 23.6316 - mae: 1.5994 - val_loss: 5.8611 - val_mae: 1.9438\n",
            "Epoch 36/50\n",
            "5253/5253 [==============================] - 15s 3ms/step - loss: 25.2339 - mae: 1.6400 - val_loss: 0.2620 - val_mae: 0.3688\n",
            "Epoch 37/50\n",
            "5253/5253 [==============================] - 15s 3ms/step - loss: 23.6091 - mae: 1.5497 - val_loss: 0.2572 - val_mae: 0.3485\n",
            "Epoch 38/50\n",
            "5253/5253 [==============================] - 15s 3ms/step - loss: 24.9064 - mae: 1.6323 - val_loss: 30.3869 - val_mae: 4.2550\n",
            "Epoch 39/50\n",
            "5253/5253 [==============================] - 17s 3ms/step - loss: 24.4582 - mae: 1.7155 - val_loss: 0.2366 - val_mae: 0.3692\n",
            "Epoch 40/50\n",
            "5253/5253 [==============================] - 15s 3ms/step - loss: 23.3851 - mae: 1.4616 - val_loss: 0.6285 - val_mae: 0.6423\n",
            "Epoch 41/50\n",
            "5253/5253 [==============================] - 15s 3ms/step - loss: 27.7628 - mae: 1.4780 - val_loss: 0.2330 - val_mae: 0.3484\n",
            "Epoch 42/50\n",
            "5253/5253 [==============================] - 17s 3ms/step - loss: 22.9545 - mae: 1.4152 - val_loss: 0.2893 - val_mae: 0.4019\n",
            "Epoch 43/50\n",
            "5253/5253 [==============================] - 15s 3ms/step - loss: 26.4649 - mae: 1.3570 - val_loss: 0.3965 - val_mae: 0.4885\n",
            "Epoch 44/50\n",
            "5253/5253 [==============================] - 15s 3ms/step - loss: 25.1637 - mae: 1.5317 - val_loss: 17.4090 - val_mae: 2.9669\n",
            "Epoch 45/50\n",
            "5253/5253 [==============================] - 18s 3ms/step - loss: 27.4075 - mae: 1.7349 - val_loss: 1.2604 - val_mae: 0.8360\n",
            "Epoch 46/50\n",
            "5253/5253 [==============================] - 15s 3ms/step - loss: 22.4926 - mae: 1.6112 - val_loss: 0.3396 - val_mae: 0.4508\n",
            "Epoch 47/50\n",
            "5253/5253 [==============================] - 15s 3ms/step - loss: 25.8201 - mae: 1.6770 - val_loss: 2.2749 - val_mae: 1.1860\n",
            "Epoch 48/50\n",
            "5253/5253 [==============================] - 17s 3ms/step - loss: 23.9807 - mae: 1.5092 - val_loss: 0.2174 - val_mae: 0.3482\n",
            "Epoch 49/50\n",
            "5253/5253 [==============================] - 15s 3ms/step - loss: 26.6958 - mae: 1.4285 - val_loss: 86.7554 - val_mae: 7.4356\n",
            "Epoch 50/50\n",
            "5253/5253 [==============================] - 17s 3ms/step - loss: 23.6989 - mae: 1.5182 - val_loss: 0.6103 - val_mae: 0.6136\n"
          ]
        }
      ]
    },
    {
      "cell_type": "code",
      "source": [
        "y_pred = network.predict(X_test)\n",
        "\n",
        "r2_s = r2_score(y_test, y_pred)\n",
        "print('R2 Score:', r2_s)\n",
        "\n",
        "mae = mean_absolute_error(y_test, y_pred)\n",
        "print('MAE:', mae)\n",
        "\n",
        "mse = mean_squared_error(y_test, y_pred)\n",
        "print('MSE:', mse)\n",
        "\n",
        "rmse = np.sqrt(mse)\n",
        "print('RMSE:', rmse)"
      ],
      "metadata": {
        "id": "a_54kpw6odL-",
        "colab": {
          "base_uri": "https://localhost:8080/"
        },
        "outputId": "83927bc9-2dfd-4d52-cf05-ace16a90f984"
      },
      "execution_count": null,
      "outputs": [
        {
          "output_type": "stream",
          "name": "stdout",
          "text": [
            "1876/1876 [==============================] - 2s 1ms/step\n",
            "R2 Score: 0.9999999987575747\n",
            "MAE: 0.6150766826299902\n",
            "MSE: 0.6404482087848052\n",
            "RMSE: 0.8002800814619875\n"
          ]
        }
      ]
    },
    {
      "cell_type": "code",
      "source": [
        "print(exc.history.keys())\n",
        "plt.plot(exc.history['loss'])\n",
        "plt.plot(exc.history['val_loss'])\n",
        "plt.title('model loss')\n",
        "plt.ylabel('loss')\n",
        "plt.xlabel('epoch')\n",
        "plt.legend(['train', 'validation'], loc='upper right')\n",
        "plt.show()"
      ],
      "metadata": {
        "id": "zI-PaFAAo7ml",
        "colab": {
          "base_uri": "https://localhost:8080/",
          "height": 490
        },
        "outputId": "6fb0f9c3-7cfd-4154-fa5f-e0c00740be9c"
      },
      "execution_count": null,
      "outputs": [
        {
          "output_type": "stream",
          "name": "stdout",
          "text": [
            "dict_keys(['loss', 'mae', 'val_loss', 'val_mae'])\n"
          ]
        },
        {
          "output_type": "display_data",
          "data": {
            "text/plain": [
              "<Figure size 640x480 with 1 Axes>"
            ],
            "image/png": "[encoded data removed]"
          },
          "metadata": {}
        }
      ]
    },
    {
      "cell_type": "markdown",
      "source": [
        "#Conclusion"
      ],
      "metadata": {
        "id": "6XXB8jJeAX9n"
      }
    },
    {
      "cell_type": "markdown",
      "source": [
        "Berdasarkan hasil dari comparasi performa model machine learning vs deep learning, Algoritma Linear Regression dalam Machine Leraning memiliki kinerja yang paling baik, dari pada model Random Forest, Decission Tree Regressor (machine learning) dan Artificial Neural Network (Deep Learning) dalam memprediksi harga tiket pesawat. Evaluasi model menunjukkan bahwa Linear Regression memiliki nilai matriks evaluasi seperti berikut,\n",
        "\n",
        "* R2 Score : 1.0\n",
        "\n",
        "* MAE: 2.4606732085437902e-11\n",
        "\n",
        "* MSE: 8.485735196453297e-22\n",
        "\n",
        "* RMSE: 2.913028526543003e-11\n",
        "\n",
        "* AIC: -2912587.203310449\n",
        "\n",
        "* BIC: -2912470.1692975815\n"
      ],
      "metadata": {
        "id": "BiRh2JTpAbMb"
      }
    },
    {
      "cell_type": "markdown",
      "source": [
        "#Convert to csv"
      ],
      "metadata": {
        "id": "5yjh9rivHz6W"
      }
    },
    {
      "cell_type": "code",
      "source": [
        "file_flight_predict=df.to_csv('file_flight_predict.csv')\n",
        "\n",
        "files.download('file_flight_predict.csv')"
      ],
      "metadata": {
        "id": "AFW50qdvH35j",
        "colab": {
          "base_uri": "https://localhost:8080/",
          "height": 17
        },
        "outputId": "69438e41-3021-419d-e7f9-5b7fbef285cf"
      },
      "execution_count": null,
      "outputs": [
        {
          "output_type": "display_data",
          "data": {
            "text/plain": [
              "<IPython.core.display.Javascript object>"
            ],
            "application/javascript": [
              "\n",
              "    async function download(id, filename, size) {\n",
              "      if (!google.colab.kernel.accessAllowed) {\n",
              "        return;\n",
              "      }\n",
              "      const div = document.createElement('div');\n",
              "      const label = document.createElement('label');\n",
              "      label.textContent = `Downloading \"${filename}\": `;\n",
              "      div.appendChild(label);\n",
              "      const progress = document.createElement('progress');\n",
              "      progress.max = size;\n",
              "      div.appendChild(progress);\n",
              "      document.body.appendChild(div);\n",
              "\n",
              "      const buffers = [];\n",
              "      let downloaded = 0;\n",
              "\n",
              "      const channel = await google.colab.kernel.comms.open(id);\n",
              "      // Send a message to notify the kernel that we're ready.\n",
              "      channel.send({})\n",
              "\n",
              "      for await (const message of channel.messages) {\n",
              "        // Send a message to notify the kernel that we're ready.\n",
              "        channel.send({})\n",
              "        if (message.buffers) {\n",
              "          for (const buffer of message.buffers) {\n",
              "            buffers.push(buffer);\n",
              "            downloaded += buffer.byteLength;\n",
              "            progress.value = downloaded;\n",
              "          }\n",
              "        }\n",
              "      }\n",
              "      const blob = new Blob(buffers, {type: 'application/binary'});\n",
              "      const a = document.createElement('a');\n",
              "      a.href = window.URL.createObjectURL(blob);\n",
              "      a.download = filename;\n",
              "      div.appendChild(a);\n",
              "      a.click();\n",
              "      div.remove();\n",
              "    }\n",
              "  "
            ]
          },
          "metadata": {}
        },
        {
          "output_type": "display_data",
          "data": {
            "text/plain": [
              "<IPython.core.display.Javascript object>"
            ],
            "application/javascript": [
              "download(\"download_50a14eec-c286-4e03-8234-070fd5e9d020\", \"file_flight_predict.csv\", 13651763)"
            ]
          },
          "metadata": {}
        }
      ]
    }
  ]
}